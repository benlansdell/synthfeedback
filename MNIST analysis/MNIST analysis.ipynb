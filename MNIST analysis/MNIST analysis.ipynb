{
 "cells": [
  {
   "cell_type": "code",
   "execution_count": 1,
   "metadata": {
    "collapsed": true
   },
   "outputs": [],
   "source": [
    "import os\n",
    "os.environ[\"CUDA_VISIBLE_DEVICES\"]=''\n",
    "import matplotlib.pyplot as plt \n",
    "import numpy as np\n",
    "import seaborn as sns\n",
    "import pickle\n",
    "import math\n",
    "from scipy.signal import lfilter"
   ]
  },
  {
   "cell_type": "code",
   "execution_count": 2,
   "metadata": {},
   "outputs": [
    {
     "ename": "FileNotFoundError",
     "evalue": "[Errno 2] No such file or directory: 'MNIST_np.pkl'",
     "output_type": "error",
     "traceback": [
      "\u001b[0;31m---------------------------------------------------------------------------\u001b[0m",
      "\u001b[0;31mFileNotFoundError\u001b[0m                         Traceback (most recent call last)",
      "\u001b[0;32m<ipython-input-2-3e83d3d647e9>\u001b[0m in \u001b[0;36m<module>\u001b[0;34m()\u001b[0m\n\u001b[0;32m----> 1\u001b[0;31m \u001b[0;32mwith\u001b[0m \u001b[0mopen\u001b[0m\u001b[0;34m(\u001b[0m\u001b[0;34m'MNIST_np.pkl'\u001b[0m\u001b[0;34m,\u001b[0m\u001b[0;34m'rb'\u001b[0m\u001b[0;34m)\u001b[0m \u001b[0;32mas\u001b[0m \u001b[0mf\u001b[0m\u001b[0;34m:\u001b[0m\u001b[0;34m\u001b[0m\u001b[0m\n\u001b[0m\u001b[1;32m      2\u001b[0m     \u001b[0;34m[\u001b[0m\u001b[0mnp_err\u001b[0m\u001b[0;34m,\u001b[0m\u001b[0mnp_al\u001b[0m\u001b[0;34m,\u001b[0m\u001b[0mnp_acc\u001b[0m\u001b[0;34m,\u001b[0m\u001b[0mnp_iteration\u001b[0m\u001b[0;34m,\u001b[0m\u001b[0mnp_epoch\u001b[0m\u001b[0;34m]\u001b[0m\u001b[0;34m=\u001b[0m\u001b[0mpickle\u001b[0m\u001b[0;34m.\u001b[0m\u001b[0mload\u001b[0m\u001b[0;34m(\u001b[0m\u001b[0mf\u001b[0m\u001b[0;34m)\u001b[0m\u001b[0;34m\u001b[0m\u001b[0m\n",
      "\u001b[0;31mFileNotFoundError\u001b[0m: [Errno 2] No such file or directory: 'MNIST_np.pkl'"
     ]
    }
   ],
   "source": [
    "with open('MNIST_np.pkl','rb') as f:\n",
    "    [np_err,np_al,np_acc,np_iteration,np_epoch]=pickle.load(f)"
   ]
  },
  {
   "cell_type": "code",
   "execution_count": null,
   "metadata": {
    "collapsed": true
   },
   "outputs": [],
   "source": [
    "with open('MNIST-FA.pkl','rb') as f:\n",
    "    [fa_err,fa_acc,fa_al,fa_iteration,fa_epoch]=pickle.load(f,encoding='latin1')"
   ]
  },
  {
   "cell_type": "code",
   "execution_count": null,
   "metadata": {
    "collapsed": true
   },
   "outputs": [],
   "source": [
    "with open('MNIST-BP.pkl','rb') as f:\n",
    "    [bp_err,bp_acc,bp_iteration,bp_epoch]=pickle.load(f,encoding='latin1')"
   ]
  },
  {
   "cell_type": "code",
   "execution_count": null,
   "metadata": {},
   "outputs": [],
   "source": [
    "plt.plot(np.mean(np_acc,axis=0),label='Node Perturbation')\n",
    "plt.plot(np.mean(fa_acc,axis=0),label='Feedback alignment')\n",
    "plt.plot(np.mean(bp_acc,axis=0),label='Back Propagation')\n",
    "plt.title(\"Mean of Accuracy\")\n",
    "plt.xlabel(\"Iteration\")\n",
    "plt.ylabel(\"loss\")\n",
    "plt.legend()\n",
    "plt.show()"
   ]
  },
  {
   "cell_type": "code",
   "execution_count": null,
   "metadata": {},
   "outputs": [],
   "source": [
    "plt.plot(np.std(np_acc,axis=0),label='Node Perturbation')\n",
    "plt.plot(np.std(fa_acc,axis=0),label='Feedback alignment')\n",
    "plt.plot(np.std(bp_acc,axis=0),label='Back Propagation')\n",
    "plt.title(\"Standard deviation of Accuracy\")\n",
    "plt.xlabel(\"Iteration\")\n",
    "plt.ylabel(\"loss\")\n",
    "plt.legend()\n",
    "plt.show()"
   ]
  },
  {
   "cell_type": "code",
   "execution_count": null,
   "metadata": {},
   "outputs": [],
   "source": [
    "plt.plot(np.mean(np_err,axis=0),label='Node Perturbation')\n",
    "plt.plot(np.mean(fa_err,axis=0),label='Feedback alignment')\n",
    "plt.plot(np.mean(bp_err,axis=0),label='Back Propagation')\n",
    "plt.title(\"Mean of loss\")\n",
    "plt.xlabel(\"Iteration\")\n",
    "plt.ylabel(\"loss\")\n",
    "plt.legend()\n",
    "plt.show()"
   ]
  },
  {
   "cell_type": "code",
   "execution_count": null,
   "metadata": {
    "scrolled": false
   },
   "outputs": [],
   "source": [
    "plt.plot(np.std(np_err,axis=0),label='Node Perturbation')\n",
    "plt.plot(np.std(fa_err,axis=0),label='Feedback alignment')\n",
    "plt.plot(np.std(bp_err,axis=0),label='Back Propagation')\n",
    "plt.title(\"Standard deviation of loss\")\n",
    "plt.xlabel(\"Iteration\")\n",
    "plt.ylabel(\"loss\")\n",
    "plt.legend()\n",
    "plt.show()"
   ]
  },
  {
   "cell_type": "code",
   "execution_count": null,
   "metadata": {},
   "outputs": [],
   "source": [
    "plt.plot(np.mean(np.degrees(np.arccos(np_al)),axis=0),label='Node Perturbation')\n",
    "plt.plot(np.mean(np.degrees(np.arccos(fa_al)),axis=0),label='Feedback Alignment')\n",
    "plt.title(\"Mean of Alignment\")\n",
    "plt.xlabel(\"Iteration\")\n",
    "plt.ylabel(\"Angle of Alignment\")\n",
    "plt.legend()\n",
    "plt.show()"
   ]
  },
  {
   "cell_type": "code",
   "execution_count": null,
   "metadata": {},
   "outputs": [],
   "source": [
    "plt.plot(np.std(np.degrees(np.arccos(np_al)),axis=0),label='Node Perturbation')\n",
    "plt.plot(np.std(np.degrees(np.arccos(fa_al)),axis=0),label='Feedback Alignment')\n",
    "plt.title(\"Standard Deviation of Alignment\")\n",
    "plt.xlabel(\"Iteration\")\n",
    "plt.ylabel(\"Angle Alignment\")\n",
    "plt.legend()\n",
    "plt.show()"
   ]
  },
  {
   "cell_type": "code",
   "execution_count": null,
   "metadata": {
    "collapsed": true
   },
   "outputs": [],
   "source": [
    "import pandas as pd\n",
    "mean_bp=np.mean(bp_err,axis=0)\n",
    "mean_fa=np.mean(fa_err,axis=0)\n",
    "mean_np=np.mean(np_err,axis=0)\n",
    "\n",
    "mean_accbp=np.mean(bp_acc,axis=0)\n",
    "mean_accfa=np.mean(fa_acc,axis=0)\n",
    "mean_accnp=np.mean(np_acc,axis=0)\n",
    "\n",
    "std_accbp=np.std(bp_acc,axis=0)\n",
    "std_accfa=np.std(fa_acc,axis=0)\n",
    "std_accnp=np.std(np_acc,axis=0)\n",
    "\n",
    "\n",
    "std_bp=np.std(bp_err,axis=0)\n",
    "std_fa=np.mean(fa_err,axis=0)\n",
    "std_np=np.mean(np_err,axis=0)\n",
    "\n",
    "acc=np.zeros((bp_iteration*3))\n",
    "acc[0:bp_iteration]=mean_accbp\n",
    "acc[bp_iteration:bp_iteration*2]=mean_accfa\n",
    "acc[bp_iteration*2:bp_iteration*3]=mean_accnp\n",
    "\n",
    "std_acc=np.zeros((bp_iteration*3))\n",
    "std_acc[0:bp_iteration]=std_accbp\n",
    "std_acc[bp_iteration:bp_iteration*2]=std_accfa\n",
    "std_acc[bp_iteration*2:bp_iteration*3]=std_accnp\n",
    "\n",
    "std=np.zeros((bp_iteration*3))\n",
    "std[0:bp_iteration]=std_bp\n",
    "std[bp_iteration:bp_iteration*2]=std_fa\n",
    "std[bp_iteration*2:bp_iteration*3]=std_np\n",
    "\n",
    "\n",
    "'''id=0 BP\n",
    "   id=1 FA\n",
    "   id=2 NP'''\n",
    "error=np.zeros((bp_iteration*3))\n",
    "error[0:bp_iteration]=mean_bp\n",
    "error[bp_iteration:bp_iteration*2]=mean_fa\n",
    "error[bp_iteration*2:bp_iteration*3]=mean_np\n",
    "\n",
    "rando=[i for i in range(bp_iteration)]\n",
    "Iter=np.zeros((bp_iteration*3))\n",
    "Iter[0:bp_iteration]=rando\n",
    "Iter[bp_iteration:bp_iteration*2]=rando\n",
    "Iter[bp_iteration*2:bp_iteration*3]=rando\n",
    "\n",
    "id=np.zeros((bp_iteration*3))\n",
    "id[0:bp_iteration]=0\n",
    "id[bp_iteration:bp_iteration*2]=1\n",
    "id[bp_iteration*2:bp_iteration*3]=2\n",
    "data={'Iteration':Iter,\n",
    "    'MeanError':error, \n",
    "     'id':id,\n",
    "     'StdError':std,\n",
    "      'MeanAcc':acc,\n",
    "      'StdAcc':std_acc\n",
    "     }\n",
    "\n",
    "\n",
    "#     ax14 = sns.tsplot(data = long_total_cluster_capacity_overload_df, value = \"Overload\", time = \"Week\", condition = \"Cluster\")\n"
   ]
  },
  {
   "cell_type": "code",
   "execution_count": null,
   "metadata": {
    "collapsed": true
   },
   "outputs": [],
   "source": [
    "# import seaborn as sns    \n",
    "import seaborn.timeseries\n",
    "\n",
    "def _plot_range_band(*args, central_data=None, ci=None, data=None, **kwargs):\n",
    "    upper = data.max(axis=0)\n",
    "    lower = data.min(axis=0)\n",
    "    #import pdb; pdb.set_trace()\n",
    "    ci = np.asarray((lower, upper))\n",
    "    kwargs.update({\"central_data\": central_data, \"ci\": ci, \"data\": data})\n",
    "    seaborn.timeseries._plot_ci_band(*args, **kwargs)\n",
    "seaborn.timeseries._plot_range_band = _plot_range_band"
   ]
  },
  {
   "cell_type": "code",
   "execution_count": null,
   "metadata": {},
   "outputs": [],
   "source": [
    "sns.tsplot(data=bp_acc, ci='sd')\n",
    "plt.show()"
   ]
  },
  {
   "cell_type": "code",
   "execution_count": null,
   "metadata": {},
   "outputs": [],
   "source": [
    "plt.plot(mean_bp)\n",
    "\n",
    "plt.fill_between(range(bp_iteration),mean_bp-std_bp,mean_bp+std_bp)\n",
    "plt.show()"
   ]
  },
  {
   "cell_type": "code",
   "execution_count": null,
   "metadata": {
    "collapsed": true
   },
   "outputs": [],
   "source": []
  },
  {
   "cell_type": "code",
   "execution_count": null,
   "metadata": {},
   "outputs": [],
   "source": [
    "df=pd.DataFrame(data,columns=['Iteration','MeanError','id','StdError','MeanAcc','StdAcc'])\n",
    "df['Unit'] = df.groupby(['id','Iteration']).cumcount()\n",
    "ax=sns.tsplot(data=df,time=\"Iteration\",value=\"MeanError\",condition=\"id\",unit=\"Unit\",err_style=\"range_band\")\n",
    "plt.title(\"Mean of loss\")\n",
    "plt.show()"
   ]
  },
  {
   "cell_type": "code",
   "execution_count": null,
   "metadata": {},
   "outputs": [],
   "source": [
    "ax=sns.tsplot(data=df,time=\"Iteration\",value=\"StdError\",condition=\"id\",unit=\"Unit\",err_style=\"range_band\")\n",
    "plt.title(\"Standard Deviation of loss\")\n",
    "plt.show()"
   ]
  },
  {
   "cell_type": "code",
   "execution_count": null,
   "metadata": {},
   "outputs": [],
   "source": [
    "ax=sns.tsplot(data=df,time=\"Iteration\",value=\"MeanAcc\",condition=\"id\",unit=\"Unit\",err_style=\"range_band\")\n",
    "plt.title(\"Mean Accuracies\")\n",
    "plt.show()"
   ]
  },
  {
   "cell_type": "code",
   "execution_count": null,
   "metadata": {},
   "outputs": [],
   "source": [
    "ax=sns.tsplot(data=df,time=\"Iteration\",value=\"StdAcc\",condition=\"id\",unit=\"Unit\",err_style=\"range_band\")\n",
    "plt.title(\"Standard Deviation of Accuracies\")\n",
    "plt.show()"
   ]
  },
  {
   "cell_type": "code",
   "execution_count": null,
   "metadata": {
    "collapsed": true
   },
   "outputs": [],
   "source": []
  },
  {
   "cell_type": "code",
   "execution_count": null,
   "metadata": {
    "collapsed": true
   },
   "outputs": [],
   "source": [
    "# n = 100 # the larger n is, the smoother curve will be\n",
    "# b = [1.0 / n] * n\n",
    "# a = 1\n",
    "# yy_bp = lfilter(b,a,bp_acc)\n",
    "# yy_fa = lfilter(b,a,fa_acc)\n",
    "# yy_np= lfilter(b,a,np_acc)\n",
    "# plt.plot( yy_bp, linewidth=2, linestyle=\"-\",label='Back Propagation')\n",
    "# plt.plot(yy_np,linewidth=2, linestyle=\"-\",label='Node Perturbation')\n",
    "# plt.plot( yy_fa, linewidth=2, linestyle=\"-\",label='Random Feedback')\n",
    "# plt.suptitle('After filtering the accuracies')\n",
    "# plt.legend()\n",
    "# plt.ylabel('Accuracy')\n",
    "# plt.show()"
   ]
  },
  {
   "cell_type": "code",
   "execution_count": null,
   "metadata": {
    "collapsed": true
   },
   "outputs": [],
   "source": []
  },
  {
   "cell_type": "code",
   "execution_count": null,
   "metadata": {
    "collapsed": true
   },
   "outputs": [],
   "source": []
  }
 ],
 "metadata": {
  "kernelspec": {
   "display_name": "Python [conda env:py34]",
   "language": "python",
   "name": "conda-env-py34-py"
  }
 },
 "nbformat": 4,
 "nbformat_minor": 2
}
