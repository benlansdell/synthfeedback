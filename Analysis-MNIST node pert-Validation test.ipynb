{
 "cells": [
  {
   "cell_type": "code",
   "execution_count": 1,
   "metadata": {
    "collapsed": true
   },
   "outputs": [],
   "source": [
    "import os\n",
    "os.environ[\"CUDA_VISIBLE_DEVICES\"]=''\n",
    "import tensorflow as tf\n",
    "import numpy as np\n",
    "import numpy.random as rng\n",
    "import numpy as np\n",
    "import matplotlib.pyplot as plt\n",
    "\n",
    "# import plotly\n",
    "# import plotly.graph_objs as go\n",
    "\n",
    "import pickle\n",
    "# import itertools\n",
    "# from utils.utils import tf_matmul_r, tf_matmul_l, tf_eigvecs, tf_eigvals\n",
    "# from tensorflow.examples.tutorials.mnist import input_data\n",
    "# mnist = input_data.read_data_sets(\"MNIST_data/\", one_hot=True)\n"
   ]
  },
  {
   "cell_type": "code",
   "execution_count": null,
   "metadata": {
    "collapsed": true,
    "scrolled": false
   },
   "outputs": [],
   "source": []
  },
  {
   "cell_type": "code",
   "execution_count": null,
   "metadata": {
    "collapsed": true
   },
   "outputs": [],
   "source": []
  },
  {
   "cell_type": "code",
   "execution_count": null,
   "metadata": {
    "collapsed": true,
    "scrolled": true
   },
   "outputs": [],
   "source": []
  },
  {
   "cell_type": "code",
   "execution_count": 2,
   "metadata": {
    "collapsed": true
   },
   "outputs": [],
   "source": [
    "# iteration =10000\n",
    "with open('Analysis_MNIST.pkl','rb') as f:\n",
    "    store_al,store_df,store_err,combo,eta_1,eta_lmda,non_converge,iteration=pickle.load(f,encoding='latin1')"
   ]
  },
  {
   "cell_type": "code",
   "execution_count": 3,
   "metadata": {
    "scrolled": true
   },
   "outputs": [
    {
     "name": "stdout",
     "output_type": "stream",
     "text": [
      "Following indexes did not converge [35, 36, 37, 38, 39, 40, 41, 42, 43, 44, 45, 46, 47, 48]\n",
      "removing row: 35\n",
      "removing row: 36\n",
      "removing row: 37\n",
      "removing row: 38\n",
      "removing row: 39\n",
      "removing row: 40\n",
      "removing row: 41\n",
      "removing row: 42\n",
      "removing row: 43\n",
      "removing row: 44\n",
      "removing row: 45\n",
      "removing row: 46\n",
      "removing row: 47\n",
      "removing row: 48\n"
     ]
    }
   ],
   "source": [
    "store_err_s=[]\n",
    "store_al_s=[]\n",
    "store_df_s=[]\n",
    "print(\"Following indexes did not converge\",non_converge)\n",
    "for count in range(store_err.shape[0]):\n",
    "    if count in non_converge:\n",
    "        print(\"removing row:\",count)\n",
    "    else:\n",
    "        store_err_s.append(store_err[count,:]) \n",
    "#         store_al_s.append(store_al[count,:])\n",
    "\n",
    "\n",
    "store_err_s=np.array(store_err_s)\n",
    "\n",
    "for val in sorted(non_converge,reverse=True):\n",
    "    del combo[val]\n",
    "eta_1new=[]\n",
    "eta_lmdanew=[]\n",
    "for first,second in combo:\n",
    "    if first not in eta_1new:\n",
    "        eta_1new.append(first)\n",
    "    if second not in eta_lmdanew:\n",
    "        eta_lmdanew.append(second)\n",
    "eta_1new=np.array(eta_1new)\n",
    "eta_lmdanew=np.array(eta_lmdanew)"
   ]
  },
  {
   "cell_type": "code",
   "execution_count": 4,
   "metadata": {
    "collapsed": true
   },
   "outputs": [],
   "source": [
    "# (combo)"
   ]
  },
  {
   "cell_type": "code",
   "execution_count": 5,
   "metadata": {
    "collapsed": true
   },
   "outputs": [],
   "source": [
    "#storing last values for error and reshaping into appropriate format\n",
    "last_val=np.zeros([eta_1new.shape[0]*eta_lmdanew.shape[0],1])\n",
    "for num in range(store_err_s.shape[0]):\n",
    "    last_val[num]=store_err_s[num][-1]\n",
    "reshape_err=np.flipud(np.reshape(last_val,[eta_1new.shape[0],eta_lmdanew.shape[0]]))\n",
    "#reshape_err = np.reshape(last_val, [eta_1new.shape[0], eta_lmdanew.shape[0]]).T\n",
    "\n"
   ]
  },
  {
   "cell_type": "code",
   "execution_count": 6,
   "metadata": {
    "collapsed": true
   },
   "outputs": [],
   "source": [
    "lf_df=np.zeros([eta_1.shape[0]*eta_lmda.shape[0],10]) #stores last 10 norm_dfs\n",
    "mean_df=np.zeros([eta_1.shape[0]*eta_lmda.shape[0],1]) #stores mean of last 10 norm_dfs\n",
    "for num in range(store_df.shape[0]):\n",
    "    lf_df[num,:]=store_df[num,iteration-10:iteration]\n",
    "    mean_df[num]=np.mean(store_df[num,iteration-10:iteration])\n",
    "    \n",
    "reshape_df=np.flipud(np.reshape(mean_df,[eta_1.shape[0],eta_lmda.shape[0]]))"
   ]
  },
  {
   "cell_type": "code",
   "execution_count": 7,
   "metadata": {
    "collapsed": true
   },
   "outputs": [],
   "source": [
    "last_al=np.zeros([eta_1.shape[0]*eta_lmda.shape[0],1])\n",
    "for num2 in range(store_al.shape[0]):\n",
    "    last_al[num2]=store_al[num2][-1]\n",
    "\n",
    "reshape_al=np.flipud(np.reshape(last_al,[eta_1.shape[0],eta_lmda.shape[0]]))"
   ]
  },
  {
   "cell_type": "code",
   "execution_count": 8,
   "metadata": {
    "collapsed": true,
    "scrolled": true
   },
   "outputs": [],
   "source": [
    "# # x=[i for i in range(iteration)]\n",
    "# for i in range(len(store_err_s)):\n",
    "#     leg='Combination '+str(i+1)\n",
    "#     plt.plot(store_err_s[i,:],label=leg)\n",
    "# plt.legend()\n",
    "# plt.show()"
   ]
  },
  {
   "cell_type": "code",
   "execution_count": 9,
   "metadata": {
    "collapsed": true
   },
   "outputs": [],
   "source": [
    "eta_xtick=np.sort(eta_lmdanew)\n",
    "for x in range(len(eta_lmdanew)):\n",
    "    eta_xtick[x]=\"%0.1e\" % eta_xtick[x]\n",
    "eta_ytick=np.sort(eta_1new)\n",
    "for y in range(len(eta_1new)):\n",
    "    eta_ytick[y]=\"%0.1e\" % eta_ytick[y]"
   ]
  },
  {
   "cell_type": "code",
   "execution_count": 10,
   "metadata": {
    "scrolled": false
   },
   "outputs": [
    {
     "data": {
      "image/png": "[encoded data removed]",
      "text/plain": [
       "<Figure size 720x720 with 2 Axes>"
      ]
     },
     "metadata": {},
     "output_type": "display_data"
    }
   ],
   "source": [
    "fig, ax = plt.subplots(1,1,figsize=(10,10))\n",
    "# plt.axes(xscale='log',yscale='log')\n",
    "# ax.locator_params(axis='y',nbins=len(eta_ytick))\n",
    "# ax.locator_params(axis='x',nbins=len(eta_xtick))\n",
    "h=ax.imshow(reshape_err, cmap='jet',interpolation='none')\n",
    "plt.colorbar(h,ax=ax)\n",
    "xlabels = [item.get_text() for item in ax.get_xticklabels()]\n",
    "xlabels[1:eta_xtick.shape[0]+1]=eta_xtick\n",
    "ax.set_xticklabels(xlabels)\n",
    "# ax.set_xticklabels([str(eta) for eta in eta_xtick])\n",
    "\n",
    "\n",
    "ylabels = [item.get_text() for item in ax.get_yticklabels()]\n",
    "ylabels[1:eta_ytick.shape[0]+1]=eta_ytick\n",
    "ax.set_yticklabels(ylabels[::-1])\n",
    "\n",
    "\n",
    "# ax.set_xticks(strings)\n",
    "# start, end = ax.get_xlim()\n",
    "# ax.xaxis.set_ticks(np.arange(start, end, 0.712123))\n",
    "# ax.xaxis.set_major_formatter(ticker.FormatStrFormatter('%0.01e'))\n",
    "\n",
    "ax.locator_params(axis='x',nbins=len(eta_xtick))\n",
    "ax.locator_params(axis='y',nbins=len(eta_ytick))\n",
    "\n",
    "\n",
    "# ax.set_ticks(eta_xtick)\n",
    "\n",
    "ax.set_xlabel(\"lmda_learning_rate \")\n",
    "ax.set_ylabel(\"learning_rate\")\n",
    "plt.title(\"Heatmap for loss at the end of all iterations\")\n",
    "plt.show()"
   ]
  },
  {
   "cell_type": "code",
   "execution_count": 11,
   "metadata": {},
   "outputs": [
    {
     "name": "stdout",
     "output_type": "stream",
     "text": [
      "[0.00000000e+00 1.00000000e-06 3.98107171e-06 1.58489319e-05\n",
      " 6.30957344e-05] [0.00000000e+00 1.00000000e-06 3.98107171e-06 1.58489319e-05\n",
      " 6.30957344e-05 2.51188643e-04 1.00000000e-03]\n"
     ]
    }
   ],
   "source": [
    "print(eta_1new,eta_lmdanew)"
   ]
  },
  {
   "cell_type": "code",
   "execution_count": 12,
   "metadata": {},
   "outputs": [
    {
     "data": {
      "image/png": "[encoded data removed]",
      "text/plain": [
       "<Figure size 720x720 with 2 Axes>"
      ]
     },
     "metadata": {},
     "output_type": "display_data"
    }
   ],
   "source": [
    "eta_xtick1=np.sort(eta_lmda)\n",
    "for x in range(len(eta_lmda)):\n",
    "    eta_xtick1[x]=\"%0.1e\" % eta_xtick1[x]\n",
    "eta_ytick1=np.sort(eta_1)\n",
    "for y in range(len(eta_1)):\n",
    "    eta_ytick1[y]=\"%0.1e\" % eta_ytick1[y]\n",
    "    \n",
    "    \n",
    "fig,ax=plt.subplots(1,1,figsize=(10,10))\n",
    "\n",
    "h2=plt.imshow(reshape_al,cmap='jet')\n",
    "plt.colorbar(h2,ax=ax)\n",
    "ax.locator_params(axis='x',nbins=len(eta_xtick1))\n",
    "ax.locator_params(axis='y',nbins=len(eta_ytick1))\n",
    "\n",
    "xlabels = [item.get_text() for item in ax.get_xticklabels()]\n",
    "xlabels[1:8]=eta_xtick1\n",
    "ax.set_xticklabels(xlabels)\n",
    "\n",
    "ylabels = [item.get_text() for item in ax.get_yticklabels()]\n",
    "ylabels[1:8]=eta_ytick1\n",
    "ax.set_yticklabels(ylabels[::-1])\n",
    "\n",
    "\n",
    "plt.title(\"Heat map of alignaments for all learning rates\")\n",
    "ax.set_xlabel(\"lmda_learning_rate\")\n",
    "ax.set_ylabel(\"learning_rate\")\n",
    "plt.show()"
   ]
  },
  {
   "cell_type": "code",
   "execution_count": 13,
   "metadata": {
    "scrolled": false
   },
   "outputs": [
    {
     "data": {
      "image/png": "[encoded data removed]",
      "text/plain": [
       "<Figure size 720x720 with 2 Axes>"
      ]
     },
     "metadata": {},
     "output_type": "display_data"
    }
   ],
   "source": [
    "fig,ax=plt.subplots(1,1,figsize=(10,10))\n",
    "h3=plt.imshow(reshape_df,cmap='jet',origin='lower')\n",
    "plt.colorbar(h3,ax=ax)\n",
    "\n",
    "ax.set_xticklabels([str(eta) for eta in eta_xtick1])\n",
    "ax.set_yticklabels([str(eta) for eta in eta_ytick1])\n",
    "ax.locator_params(axis='x',nbins=len(eta_xtick1))\n",
    "ax.locator_params(axis='y',nbins=len(eta_ytick1))\n",
    "\n",
    "plt.title(\"Heatmap of mean of the the last 10 norms differences\")\n",
    "plt.xlabel(\"learning_rate\")\n",
    "plt.ylabel(\"lmda_learning_rate\")\n",
    "plt.show()\n",
    "\n",
    "# for iter in range(lf_df.shape[0]):\n",
    "#     leg='Combination '+str(iter+1)\n",
    "#     plt.plot(lf_df[iter,:],label=leg)\n",
    "# plt.title(\"Last 10 norm fifferences for every combination of learnig rates\")\n",
    "# plt.legend()\n",
    "# plt.show()           \n",
    "    \n",
    "# # fig, ax1 = plt.subplots(1,1)\n",
    "# # data = np.random.randint(0, 100, size=(10, 10))\n",
    "# # ax1.imshow(data, cmap='jet', interpolation='nearest')\n",
    "# # ax1.set_xticklabels(['', 0,10,20,30,40])\n",
    "# # plt.show()"
   ]
  },
  {
   "cell_type": "code",
   "execution_count": null,
   "metadata": {
    "collapsed": true
   },
   "outputs": [],
   "source": []
  },
  {
   "cell_type": "code",
   "execution_count": null,
   "metadata": {
    "collapsed": true
   },
   "outputs": [],
   "source": []
  },
  {
   "cell_type": "code",
   "execution_count": null,
   "metadata": {
    "collapsed": true
   },
   "outputs": [],
   "source": []
  }
 ],
 "metadata": {
  "kernelspec": {
   "display_name": "Python [conda env:py34]",
   "language": "python",
   "name": "conda-env-py34-py"
  },
  "language_info": {
   "codemirror_mode": {
    "name": "ipython",
    "version": 3
   },
   "file_extension": ".py",
   "mimetype": "text/x-python",
   "name": "python",
   "nbconvert_exporter": "python",
   "pygments_lexer": "ipython3",
   "version": "3.6.6"
  }
 },
 "nbformat": 4,
 "nbformat_minor": 2
}
