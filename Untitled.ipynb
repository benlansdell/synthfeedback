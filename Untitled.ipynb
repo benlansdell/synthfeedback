{
 "cells": [
  {
   "cell_type": "code",
   "execution_count": 4,
   "metadata": {},
   "outputs": [],
   "source": [
    "#!/usr/bin/env python\n",
    "import os\n",
    "os.environ[\"CUDA_VISIBLE_DEVICES\"]=\"1\"\n",
    "\n",
    "import tensorflow as tf\n",
    "\n",
    "from data_loader.data_generator import MNISTDataGenerator, LinearDataGenerator\n",
    "from models.sfmodels import BPModel, FAModel, FAModelLinear, DirectFAModel4, BPModel4, FAModel4, AEFAModel, AEBPModel,\\\n",
    "\t\t\t\t\t\t\t\t\t\t\t\t\t\tAEDFAModel, BPModel10, FAModel10,\\\n",
    "\t\t\t\t\t\t\t\t\t\t\t\t\t\tFAModel4Linear\n",
    "from trainers.sf_trainer import SFTrainer, AESFTrainer\n",
    "from utils.config import process_config\n",
    "from utils.dirs import create_dirs\n",
    "from utils.utils import get_args\n",
    "from utils.logger import LoggerNumpy, Logger\n",
    "\n",
    "import shutil\n",
    "import numpy.random as rng\n",
    "import numpy as np"
   ]
  },
  {
   "cell_type": "code",
   "execution_count": 5,
   "metadata": {},
   "outputs": [
    {
     "name": "stderr",
     "output_type": "stream",
     "text": [
      "usage: __main__.py [-h] [-m M] [-n n] [-r n]\n",
      "__main__.py: error: unrecognized arguments: -f /run/user/1017/jupyter/kernel-b20e9001-5ddb-4ca9-bae5-7b7b5fafa4b4.json\n"
     ]
    },
    {
     "ename": "SystemExit",
     "evalue": "2",
     "output_type": "error",
     "traceback": [
      "An exception has occurred, use %tb to see the full traceback.\n",
      "\u001b[0;31mSystemExit\u001b[0m\u001b[0;31m:\u001b[0m 2\n"
     ]
    },
    {
     "name": "stderr",
     "output_type": "stream",
     "text": [
      "/opt/anaconda/miniconda2/envs/py34/lib/python3.6/site-packages/IPython/core/interactiveshell.py:2889: UserWarning: To exit: use 'exit', 'quit', or Ctrl-D.\n",
      "  warn(\"To exit: use 'exit', 'quit', or Ctrl-D.\", stacklevel=1)\n"
     ]
    }
   ],
   "source": [
    "def main():\n",
    "\targs = get_args()\n",
    "\tmodel_name = args.modelname\n",
    "\tN = args.nreps\n",
    "\trmdirs = args.rmdirs\n",
    "\n",
    "\tif model_name == 'feedbackalignment':\n",
    "\t\tModel = FAModel\n",
    "\t\tData = MNISTDataGenerator\n",
    "\t\tTrainer = SFTrainer\n",
    "\telif model_name == 'feedbackalignment4':\n",
    "\t\tModel = FAModel4\n",
    "\t\tData = MNISTDataGenerator\n",
    "\t\tTrainer = SFTrainer\n",
    "\telif model_name == 'feedbackalignment4linear':\n",
    "\t\tModel = FAModel4Linear\n",
    "\t\tData = MNISTDataGenerator\n",
    "\t\tTrainer = SFTrainer\n",
    "\telif model_name == 'feedbackalignment10':\n",
    "\t\tModel = FAModel10\n",
    "\t\tData = MNISTDataGenerator\n",
    "\t\tTrainer = SFTrainer\n",
    "\telif model_name == 'directfeedbackalignment':\n",
    "\t\tModel = DirectFAModel4\n",
    "\t\tData = MNISTDataGenerator\n",
    "\t\tTrainer = SFTrainer\n",
    "\telif model_name == 'backprop':\n",
    "\t\tModel = BPModel\n",
    "\t\tData = MNISTDataGenerator\n",
    "\t\tTrainer = SFTrainer\n",
    "\telif model_name == 'backprop4':\n",
    "\t\tModel = BPModel4\n",
    "\t\tData = MNISTDataGenerator\n",
    "\t\tTrainer = SFTrainer\n",
    "\telif model_name == 'backprop10':\n",
    "\t\tModel = BPModel10\n",
    "\t\tData = MNISTDataGenerator\n",
    "\t\tTrainer = SFTrainer\n",
    "\telif model_name == 'feedbackalignment_linear':\n",
    "\t\tModel = FAModelLinear\n",
    "\t\tData = LinearDataGenerator\n",
    "\t\tTrainer = SFTrainer\n",
    "\telif model_name == 'feedbackalignment_autoencoder':\n",
    "\t\tModel = AEFAModel\n",
    "\t\tData = MNISTDataGenerator\n",
    "\t\tTrainer = AESFTrainer\n",
    "\telif model_name == 'backprop_autoencoder':\n",
    "\t\tModel = AEBPModel\n",
    "\t\tData = MNISTDataGenerator\n",
    "\t\tTrainer = AESFTrainer\n",
    "\telif model_name == 'directfeedbackalignment_autoencoder':\n",
    "\t\tModel = AEDFAModel\n",
    "\t\tData = MNISTDataGenerator\n",
    "\t\tTrainer = AESFTrainer\n",
    "\n",
    "\t#config = process_config('./configs/np_optimized.json', model_name)\n",
    "\tconfig = process_config('./configs/sf_optimized.json', model_name)\n",
    "\n",
    "\t#Remove summary dir, but not hyperparams\n",
    "\tif rmdirs:\n",
    "\t\ttry:\n",
    "\t\t\tshutil.rmtree(config.summary_dir + '/test/')\n",
    "\t\t\tshutil.rmtree(config.summary_dir + '/train/')\n",
    "\t\t\tshutil.rmtree(config.checkpoint_dir)\n",
    "\t\texcept OSError:\n",
    "\t\t\tprint ('an error')\n",
    "\t\t\tpass \n",
    "\n",
    "\tcreate_dirs([config.summary_dir, config.checkpoint_dir])\n",
    "\n",
    "\tmodel = Model(config)\n",
    "\tfor idx in range(N):\n",
    "\t\tprint ('Running %s, iteration %d/%d'%(model_name, idx+1, N))\n",
    "\t\twith tf.Session() as sess:\t\n",
    "\t\t\t#sess = tf.Session()\n",
    "\t\t\tmodel.load(sess)\n",
    "\t\t\tdata = Data(config)\n",
    "\t\t\tlogger = Logger(sess, config)\n",
    "\t\t\ttrainer = Trainer(sess, model, data, config, logger)\n",
    "\n",
    "\t\t\ttry:\n",
    "\t\t\t\ttrainer.train()\n",
    "\t\t\texcept ValueError:\n",
    "\t\t\t\tprint(\"Method fails to converge for these parameters\")\n",
    "\n",
    "if __name__ == '__main__':\n",
    "\tmain()"
   ]
  },
  {
   "cell_type": "code",
   "execution_count": null,
   "metadata": {
    "collapsed": true
   },
   "outputs": [],
   "source": []
  },
  {
   "cell_type": "code",
   "execution_count": null,
   "metadata": {
    "collapsed": true
   },
   "outputs": [],
   "source": []
  }
 ],
 "metadata": {
  "kernelspec": {
   "display_name": "Python [conda env:py34]",
   "language": "python",
   "name": "conda-env-py34-py"
  },
  "language_info": {
   "codemirror_mode": {
    "name": "ipython",
    "version": 3
   },
   "file_extension": ".py",
   "mimetype": "text/x-python",
   "name": "python",
   "nbconvert_exporter": "python",
   "pygments_lexer": "ipython3",
   "version": "3.6.1"
  }
 },
 "nbformat": 4,
 "nbformat_minor": 2
}
