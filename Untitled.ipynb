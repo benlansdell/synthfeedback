{
 "cells": [
  {
   "cell_type": "code",
   "execution_count": 1,
   "metadata": {
    "collapsed": true
   },
   "outputs": [],
   "source": [
    "#!/usr/bin/env ipython\n",
    "import os\n",
    "os.environ[\"CUDA_VISIBLE_DEVICES\"]=\"1\"\n",
    "\n",
    "#python -m cProfile -o 2_profile.txt ./mains/2_establish_convergence_feedforward.py\n",
    "\n",
    "import tensorflow as tf\n",
    "import numpy.random as rng\n",
    "import numpy as np\n",
    "import pickle\n",
    "\n",
    "from data_loader.data_generator import MNISTDataGenerator\n",
    "from models.wmmodels import WMModel4\n",
    "from trainers.sf_trainer import SFTrainer\n",
    "from utils.config import process_config\n",
    "from utils.dirs import create_dirs\n",
    "from utils.utils import get_args\n",
    "from utils.logger import LoggerNumpy\n",
    "import cProfile\n",
    "import re\n",
    "\n",
    "#Add tensorflow profiling\n",
    "from tensorflow.python.client import timeline"
   ]
  },
  {
   "cell_type": "code",
   "execution_count": 2,
   "metadata": {},
   "outputs": [
    {
     "name": "stderr",
     "output_type": "stream",
     "text": [
      "usage: __main__.py [-h] [-m M] [-n n] [-r n]\n",
      "__main__.py: error: unrecognized arguments: -f /run/user/1017/jupyter/kernel-3dab6df9-9c54-4dbc-86c2-dbf4c5b64ca8.json\n"
     ]
    },
    {
     "ename": "SystemExit",
     "evalue": "2",
     "output_type": "error",
     "traceback": [
      "An exception has occurred, use %tb to see the full traceback.\n",
      "\u001b[0;31mSystemExit\u001b[0m\u001b[0;31m:\u001b[0m 2\n"
     ]
    },
    {
     "name": "stderr",
     "output_type": "stream",
     "text": [
      "/opt/anaconda/miniconda2/envs/py34/lib/python3.6/site-packages/IPython/core/interactiveshell.py:2889: UserWarning: To exit: use 'exit', 'quit', or Ctrl-D.\n",
      "  warn(\"To exit: use 'exit', 'quit', or Ctrl-D.\", stacklevel=1)\n"
     ]
    }
   ],
   "source": [
    "def set_hyperparameters(config, attr, vals):\n",
    "    for idx, val in enumerate(vals):\n",
    "        setattr(config, attr[idx], val)\n",
    "def main():\n",
    "    args = get_args()\n",
    "    model_name = 'WM_4layer'\n",
    "    Model = WM_4layer\n",
    "    Data = MNISTDataGenerator\n",
    "    Trainer = SFTrainer\n",
    "\n",
    "    config = process_config('/home/prashanth/synthfeedback/configs/wm.json', model_name)\n",
    "    create_dirs([config.summary_dir, config.checkpoint_dir])\n",
    "\n",
    "    #Param search parameters\n",
    "    #attr = ['']\n",
    "    #var_vals = [1e-3, 1e-2, 1e-1, 1, 10]\n",
    "    #var_vals = [30,100]\n",
    "\n",
    "    N = 1\n",
    "    M = 3\n",
    "    #config.num_epoch=5\n",
    "    #print(\"\\n\\n\",config.num_epoch)\n",
    "    T = config.num_epochs+1\n",
    "    #config.gamma=250000\n",
    "    \n",
    "    n_tags = 10\n",
    "    test_losses = np.zeros((N, M))\n",
    "    isnan = np.zeros((N, M))\n",
    "    metrics = np.zeros((N, M, T, n_tags))\n",
    "\n",
    "    tfconfig = tf.ConfigProto()\n",
    "    tfconfig.gpu_options.allow_growth = True\n",
    "    \n",
    "    for n in range(N):\n",
    "        #var_val = [var_vals[n]]\n",
    "        #set_hyperparameters(config, attr, var_val)\n",
    "        tf.reset_default_graph()\n",
    "        model = Model(config)\n",
    "        #print(\"\\n\\n\",config.num_epoch)\n",
    "        data = Data(config)\n",
    "        #print('Hyperparameters: ' + attr[0] + ' = %f'%var_vals[n])\n",
    "        for m in range(M):\n",
    "            with tf.Session(config=tfconfig) as sess:\n",
    "                #options = tf.RunOptions(trace_level=tf.RunOptions.FULL_TRACE)\n",
    "                #run_metadata = tf.RunMetadata()\n",
    "                logger = LoggerNumpy(sess, config, model)\n",
    "                model.load(sess)\n",
    "                #trainer = Trainer(sess, model, data, config, logger, options, run_metadata)\n",
    "                trainer = Trainer(sess, model, data, config, logger)\n",
    "                try:\n",
    "                    trainer.train()\n",
    "                except ValueError:\n",
    "                    print(\"Method fails to converge for these parameters\")\n",
    "                    isnan[n,m] = 1\n",
    "                loss, acc = trainer.test()\n",
    "                metric = logger.get_data()\n",
    "                tags = logger.get_tags()\n",
    "                test_losses[n,m] = loss\n",
    "                metrics[n,m,:,:] = metric\n",
    "\n",
    "                #fetched_timeline = timeline.Timeline(run_metadata.step_stats)\n",
    "                #chrome_trace = fetched_timeline.generate_chrome_trace_format()\n",
    "                #with open('./timeline_02_n_%d_m_%d.json'%(n,m), 'w') as f:\n",
    "                #    f.write(chrome_trace)\n",
    "\n",
    "        #Save after each run\n",
    "        #fn = os.path.join(config.summary_dir) + \"WM_4layer(condnum).npz\"\n",
    "        to_save = {\n",
    "            'test_losses': test_losses,\n",
    "            'metrics': metrics,\n",
    "            'isnan': isnan,\n",
    "            'tags': tags\n",
    "        }\n",
    "        #pickle.dump(to_save, open(fn, \"wb\"))\n",
    "\n",
    "    #np.savez(fn, test_losses=test_losses, metrics = metrics, isnan = isnan, tags = tags)\n",
    "    return metrics\n",
    "\n",
    "if __name__ == '__main__':\n",
    "    main()"
   ]
  },
  {
   "cell_type": "code",
   "execution_count": 6,
   "metadata": {},
   "outputs": [],
   "source": [
    "W1 = tf.Variable(rng.randn(1,5), name=\"hidden_weights2\", dtype=tf.float32)"
   ]
  },
  {
   "cell_type": "code",
   "execution_count": 7,
   "metadata": {
    "collapsed": true
   },
   "outputs": [],
   "source": [
    "W2= tf.Variable(rng.randn(5,5), dtype=tf.float32)"
   ]
  },
  {
   "cell_type": "code",
   "execution_count": 15,
   "metadata": {},
   "outputs": [
    {
     "data": {
      "text/plain": [
       "<tf.Tensor 'Mean_1:0' shape=(5,) dtype=float32>"
      ]
     },
     "execution_count": 15,
     "metadata": {},
     "output_type": "execute_result"
    }
   ],
   "source": [
    "tf.reduce_mean(W2,axis=1)"
   ]
  },
  {
   "cell_type": "code",
   "execution_count": null,
   "metadata": {
    "collapsed": true
   },
   "outputs": [],
   "source": []
  }
 ],
 "metadata": {
  "kernelspec": {
   "display_name": "Python [conda env:py34]",
   "language": "python",
   "name": "conda-env-py34-py"
  },
  "language_info": {
   "codemirror_mode": {
    "name": "ipython",
    "version": 3
   },
   "file_extension": ".py",
   "mimetype": "text/x-python",
   "name": "python",
   "nbconvert_exporter": "python",
   "pygments_lexer": "ipython3",
   "version": "3.6.6"
  }
 },
 "nbformat": 4,
 "nbformat_minor": 2
}
