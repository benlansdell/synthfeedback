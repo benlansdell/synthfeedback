{
 "cells": [
  {
   "cell_type": "code",
   "execution_count": 89,
   "metadata": {},
   "outputs": [
    {
     "name": "stdout",
     "output_type": "stream",
     "text": [
      "/home/lansdell/projects/synthfeedback\n"
     ]
    }
   ],
   "source": [
    "cd /home/lansdell/projects/synthfeedback"
   ]
  },
  {
   "cell_type": "code",
   "execution_count": 90,
   "metadata": {},
   "outputs": [
    {
     "name": "stdout",
     "output_type": "stream",
     "text": [
      "Populating the interactive namespace from numpy and matplotlib\n"
     ]
    },
    {
     "name": "stderr",
     "output_type": "stream",
     "text": [
      "/opt/anaconda/anaconda2/envs/py34/lib/python3.6/site-packages/IPython/core/magics/pylab.py:161: UserWarning: pylab import has clobbered these variables: ['f', 'axis']\n",
      "`%matplotlib` prevents importing * from pylab and numpy\n",
      "  \"\\n`%matplotlib` prevents importing * from pylab and numpy\"\n"
     ]
    }
   ],
   "source": [
    "%pylab inline\n",
    "import os\n",
    "import numpy as np\n",
    "import matplotlib.pyplot as plt\n",
    "import pickle\n",
    "import seaborn as sns\n",
    "import scipy \n",
    "sns.set_style('ticks')"
   ]
  },
  {
   "cell_type": "markdown",
   "metadata": {},
   "source": [
    "## Cartpole RNN with partial observability.\n",
    "\n",
    "Only observe the position and angle -- requires integration over time to solve the problem"
   ]
  },
  {
   "cell_type": "markdown",
   "metadata": {
    "collapsed": true
   },
   "source": [
    "## Backprop"
   ]
  },
  {
   "cell_type": "code",
   "execution_count": 41,
   "metadata": {
    "collapsed": true
   },
   "outputs": [],
   "source": [
    "#Load BP results\n",
    "sns.set_style('ticks')\n",
    "\n",
    "lmbda = 5e-5\n",
    "var_xi = 0.5\n",
    "method = 'backprop'\n",
    "learning_rate = 1e-3\n",
    "\n",
    "#Load data from script\n",
    "fn_in = './experiments/cartpole_rnn_partialobs/%s_learning_rate_%f_lmbda_%f_varxi_%f.npz'%(method, learning_rate, lmbda, var_xi)\n",
    "with open(fn_in, 'rb') as f:\n",
    "    data = pickle.load(f)\n",
    "\n",
    "xs = data['xs']\n",
    "params = data['params']\n",
    "\n",
    "#tags = data['tags']\n",
    "#metrics = data['metrics']"
   ]
  },
  {
   "cell_type": "code",
   "execution_count": 15,
   "metadata": {},
   "outputs": [
    {
     "data": {
      "text/plain": [
       "(5000, 10, 10, 20, 4)"
      ]
     },
     "execution_count": 15,
     "metadata": {},
     "output_type": "execute_result"
    }
   ],
   "source": [
    "xs.shape"
   ]
  },
  {
   "cell_type": "code",
   "execution_count": 42,
   "metadata": {
    "collapsed": true
   },
   "outputs": [],
   "source": [
    "b = 5\n",
    "nB = 20\n",
    "theta_d = xs[:,:,:,:,0].reshape(5000,-1, nB)\n",
    "theta = xs[:,:,:,:,1].reshape(5000,-1,nB)\n",
    "h_d = xs[:,:,:,:,2].reshape(5000,-1,nB)\n",
    "h = xs[:,:,:,:,3].reshape(5000,-1,nB)"
   ]
  },
  {
   "cell_type": "code",
   "execution_count": 43,
   "metadata": {},
   "outputs": [
    {
     "name": "stderr",
     "output_type": "stream",
     "text": [
      "/opt/anaconda/miniconda2/envs/py34/lib/python3.6/site-packages/scipy/stats/stats.py:1713: FutureWarning: Using a non-tuple sequence for multidimensional indexing is deprecated; use `arr[tuple(seq)]` instead of `arr[seq]`. In the future this will be interpreted as an array index, `arr[np.array(seq)]`, which will result either in an error or a different result.\n",
      "  return np.add.reduce(sorted[indexer] * weights, axis=axis) / sumval\n"
     ]
    },
    {
     "data": {
      "image/png": "[encoded data removed]",
      "text/plain": [
       "<Figure size 360x360 with 1 Axes>"
      ]
     },
     "metadata": {},
     "output_type": "display_data"
    }
   ],
   "source": [
    "fig, axis = plt.subplots(1,1,figsize = (5,5))\n",
    "#axis.plot(np.arange(5000),np.mean(theta<np.pi/8, 1))\n",
    "sns.tsplot(np.mean(theta<np.pi/8, 1).T, ax = axis, ci=68)\n",
    "#sns.tsplot(np.mean(theta<np.pi/8, 1).T, ax = axis, ci=68)\n",
    "axis.set_xlabel('trial #')\n",
    "axis.set_xlim([0, 5000])\n",
    "axis.set_ylabel('proportion of time upright')\n",
    "sns.despine(trim=True)"
   ]
  },
  {
   "cell_type": "markdown",
   "metadata": {
    "collapsed": true
   },
   "source": [
    "## Feedback alignment"
   ]
  },
  {
   "cell_type": "code",
   "execution_count": 38,
   "metadata": {
    "collapsed": true
   },
   "outputs": [],
   "source": [
    "#Load BP results\n",
    "sns.set_style('ticks')\n",
    "lmbda = 5e-5\n",
    "var_xi = 0.5\n",
    "method = 'feedbackalignment'\n",
    "learning_rate = 1e-3\n",
    "fn_in = './experiments/cartpole_rnn_partialobs/%s_learning_rate_%f_lmbda_%f_varxi_%f.npz'%(method, learning_rate, lmbda, var_xi)\n",
    "with open(fn_in, 'rb') as f:\n",
    "    data = pickle.load(f)\n",
    "xs = data['xs']\n",
    "params = data['params']"
   ]
  },
  {
   "cell_type": "code",
   "execution_count": 21,
   "metadata": {},
   "outputs": [
    {
     "data": {
      "text/plain": [
       "(5000, 10, 10, 20, 4)"
      ]
     },
     "execution_count": 21,
     "metadata": {},
     "output_type": "execute_result"
    }
   ],
   "source": [
    "xs.shape"
   ]
  },
  {
   "cell_type": "code",
   "execution_count": 39,
   "metadata": {
    "collapsed": true
   },
   "outputs": [],
   "source": [
    "nB = 20\n",
    "theta_d = xs[:,:,:,:,0].reshape(N_epochs,-1, nB)\n",
    "theta = xs[:,:,:,:,1].reshape(N_epochs,-1,nB)\n",
    "h_d = xs[:,:,:,:,2].reshape(N_epochs,-1,nB)\n",
    "h = xs[:,:,:,:,3].reshape(N_epochs,-1,nB)"
   ]
  },
  {
   "cell_type": "code",
   "execution_count": 40,
   "metadata": {
    "scrolled": false
   },
   "outputs": [
    {
     "name": "stderr",
     "output_type": "stream",
     "text": [
      "/opt/anaconda/miniconda2/envs/py34/lib/python3.6/site-packages/scipy/stats/stats.py:1713: FutureWarning: Using a non-tuple sequence for multidimensional indexing is deprecated; use `arr[tuple(seq)]` instead of `arr[seq]`. In the future this will be interpreted as an array index, `arr[np.array(seq)]`, which will result either in an error or a different result.\n",
      "  return np.add.reduce(sorted[indexer] * weights, axis=axis) / sumval\n"
     ]
    },
    {
     "data": {
      "image/png": "[encoded data removed]",
      "text/plain": [
       "<Figure size 360x360 with 1 Axes>"
      ]
     },
     "metadata": {},
     "output_type": "display_data"
    }
   ],
   "source": [
    "fig, axis = plt.subplots(1,1,figsize = (5,5))\n",
    "#axis.plot(np.arange(5000),np.mean(theta<np.pi/8, 1))\n",
    "sns.tsplot(1-np.mean(theta<np.pi/8, 1).T, ax = axis, ci=68)\n",
    "axis.set_xlabel('trial #')\n",
    "axis.set_xlim([0, 5000])\n",
    "axis.set_ylabel('proportion of time falls')\n",
    "sns.despine(trim=True)"
   ]
  },
  {
   "cell_type": "markdown",
   "metadata": {
    "collapsed": true
   },
   "source": [
    "## Node perturbation"
   ]
  },
  {
   "cell_type": "code",
   "execution_count": 55,
   "metadata": {
    "collapsed": true
   },
   "outputs": [],
   "source": [
    "#Load BP results\n",
    "sns.set_style('ticks')\n",
    "lmbda = 5e-5\n",
    "var_xi = 0.01\n",
    "method = 'nodepert'\n",
    "learning_rate = 1e-3\n",
    "fn_in = './experiments/cartpole_rnn_partialobs/%s_learning_rate_%f_lmbda_%f_varxi_%f.npz'%(method, learning_rate, lmbda, var_xi)\n",
    "with open(fn_in, 'rb') as f:\n",
    "    data = pickle.load(f)\n",
    "xs = data['xs']\n",
    "params = data['params']\n",
    "N_epochs = 5000"
   ]
  },
  {
   "cell_type": "code",
   "execution_count": 56,
   "metadata": {},
   "outputs": [
    {
     "data": {
      "text/plain": [
       "(5000, 10, 10, 20, 4)"
      ]
     },
     "execution_count": 56,
     "metadata": {},
     "output_type": "execute_result"
    }
   ],
   "source": [
    "xs.shape"
   ]
  },
  {
   "cell_type": "code",
   "execution_count": 57,
   "metadata": {
    "collapsed": true
   },
   "outputs": [],
   "source": [
    "nB = 20\n",
    "theta_d = xs[:,:,:,:,0].reshape(N_epochs,-1, nB)\n",
    "theta = xs[:,:,:,:,1].reshape(N_epochs,-1,nB)\n",
    "h_d = xs[:,:,:,:,2].reshape(N_epochs,-1,nB)\n",
    "h = xs[:,:,:,:,3].reshape(N_epochs,-1,nB)"
   ]
  },
  {
   "cell_type": "code",
   "execution_count": 58,
   "metadata": {
    "scrolled": true
   },
   "outputs": [
    {
     "name": "stderr",
     "output_type": "stream",
     "text": [
      "/opt/anaconda/miniconda2/envs/py34/lib/python3.6/site-packages/scipy/stats/stats.py:1713: FutureWarning: Using a non-tuple sequence for multidimensional indexing is deprecated; use `arr[tuple(seq)]` instead of `arr[seq]`. In the future this will be interpreted as an array index, `arr[np.array(seq)]`, which will result either in an error or a different result.\n",
      "  return np.add.reduce(sorted[indexer] * weights, axis=axis) / sumval\n"
     ]
    },
    {
     "data": {
      "image/png": "[encoded data removed]",
      "text/plain": [
       "<Figure size 360x360 with 1 Axes>"
      ]
     },
     "metadata": {},
     "output_type": "display_data"
    }
   ],
   "source": [
    "fig, axis = plt.subplots(1,1,figsize = (5,5))\n",
    "#axis.plot(np.arange(5000),np.mean(theta<np.pi/8, 1))\n",
    "sns.tsplot(np.mean(theta<np.pi/8, 1).T, ax = axis, ci=68)\n",
    "axis.set_xlabel('trial #')\n",
    "axis.set_xlim([0, 5000])\n",
    "axis.set_ylabel('proportion of time upright')\n",
    "sns.despine(trim=True)"
   ]
  },
  {
   "cell_type": "markdown",
   "metadata": {
    "collapsed": true
   },
   "source": [
    "## Node perturbation with SGD NP"
   ]
  },
  {
   "cell_type": "code",
   "execution_count": 60,
   "metadata": {
    "collapsed": true
   },
   "outputs": [],
   "source": [
    "#Load SGD NP results\n",
    "sns.set_style('ticks')\n",
    "lmbda = 5e-3\n",
    "var_xi = 0.01\n",
    "method = 'nodepert'\n",
    "learning_rate = 1e-3\n",
    "fn_in = './experiments/cartpole_rnn_partialobs_sgdnp/%s_learning_rate_%f_lmbda_%f_varxi_%f.npz'%(method, learning_rate, lmbda, var_xi)\n",
    "with open(fn_in, 'rb') as f:\n",
    "    data = pickle.load(f)\n",
    "xs = data['xs']\n",
    "params = data['params']\n",
    "N_epochs = 5000"
   ]
  },
  {
   "cell_type": "code",
   "execution_count": 61,
   "metadata": {},
   "outputs": [
    {
     "data": {
      "text/plain": [
       "(5000, 10, 10, 20, 4)"
      ]
     },
     "execution_count": 61,
     "metadata": {},
     "output_type": "execute_result"
    }
   ],
   "source": [
    "xs.shape"
   ]
  },
  {
   "cell_type": "code",
   "execution_count": 62,
   "metadata": {
    "collapsed": true
   },
   "outputs": [],
   "source": [
    "nB = 20\n",
    "theta_d = xs[:,:,:,:,0].reshape(N_epochs,-1, nB)\n",
    "theta = xs[:,:,:,:,1].reshape(N_epochs,-1,nB)\n",
    "h_d = xs[:,:,:,:,2].reshape(N_epochs,-1,nB)\n",
    "h = xs[:,:,:,:,3].reshape(N_epochs,-1,nB)"
   ]
  },
  {
   "cell_type": "code",
   "execution_count": 64,
   "metadata": {
    "scrolled": false
   },
   "outputs": [
    {
     "name": "stderr",
     "output_type": "stream",
     "text": [
      "/opt/anaconda/miniconda2/envs/py34/lib/python3.6/site-packages/scipy/stats/stats.py:1713: FutureWarning: Using a non-tuple sequence for multidimensional indexing is deprecated; use `arr[tuple(seq)]` instead of `arr[seq]`. In the future this will be interpreted as an array index, `arr[np.array(seq)]`, which will result either in an error or a different result.\n",
      "  return np.add.reduce(sorted[indexer] * weights, axis=axis) / sumval\n"
     ]
    },
    {
     "data": {
      "image/png": "[encoded data removed]",
      "text/plain": [
       "<Figure size 360x360 with 1 Axes>"
      ]
     },
     "metadata": {},
     "output_type": "display_data"
    }
   ],
   "source": [
    "fig, axis = plt.subplots(1,1,figsize = (5,5))\n",
    "#axis.plot(np.arange(5000),np.mean(theta<np.pi/8, 1))\n",
    "sns.tsplot(1-np.mean(theta<np.pi/8, 1).T, ax = axis, ci=68)\n",
    "axis.set_xlabel('trial #')\n",
    "axis.set_xlim([0, 5000])\n",
    "axis.set_ylabel('proportion of time falls')\n",
    "sns.despine(trim=True)"
   ]
  },
  {
   "cell_type": "markdown",
   "metadata": {
    "collapsed": true
   },
   "source": [
    "## Plot all combined"
   ]
  },
  {
   "cell_type": "code",
   "execution_count": 65,
   "metadata": {
    "collapsed": true
   },
   "outputs": [],
   "source": [
    "#Load SGD NP results\n",
    "sns.set_style('ticks')\n",
    "lmbda = 5e-3\n",
    "var_xi = 0.01\n",
    "method = 'nodepert'\n",
    "learning_rate = 1e-3\n",
    "fn_in = './experiments/cartpole_rnn_partialobs_sgdnp/%s_learning_rate_%f_lmbda_%f_varxi_%f.npz'%(method, learning_rate, lmbda, var_xi)\n",
    "with open(fn_in, 'rb') as f:\n",
    "    data = pickle.load(f)\n",
    "xs = data['xs']\n",
    "params = data['params']\n",
    "N_epochs = 5000\n",
    "nB = 20\n",
    "\n",
    "theta_d_np = xs[:,:,:,:,0].reshape(N_epochs,-1, nB)\n",
    "theta_np = xs[:,:,:,:,1].reshape(N_epochs,-1,nB)\n",
    "h_d_np = xs[:,:,:,:,2].reshape(N_epochs,-1,nB)\n",
    "h_np = xs[:,:,:,:,3].reshape(N_epochs,-1,nB)"
   ]
  },
  {
   "cell_type": "code",
   "execution_count": 68,
   "metadata": {
    "collapsed": true
   },
   "outputs": [],
   "source": [
    "#Load FA results\n",
    "sns.set_style('ticks')\n",
    "lmbda = 5e-5\n",
    "var_xi = 0.5\n",
    "method = 'feedbackalignment'\n",
    "learning_rate = 1e-3\n",
    "fn_in = './experiments/cartpole_rnn_partialobs/%s_learning_rate_%f_lmbda_%f_varxi_%f.npz'%(method, learning_rate, lmbda, var_xi)\n",
    "with open(fn_in, 'rb') as f:\n",
    "    data = pickle.load(f)\n",
    "xs = data['xs']\n",
    "params = data['params']\n",
    "\n",
    "theta_d_fa = xs[:,:,:,:,0].reshape(N_epochs,-1, nB)\n",
    "theta_fa = xs[:,:,:,:,1].reshape(N_epochs,-1,nB)\n",
    "h_d_fa = xs[:,:,:,:,2].reshape(N_epochs,-1,nB)\n",
    "h_fa = xs[:,:,:,:,3].reshape(N_epochs,-1,nB)"
   ]
  },
  {
   "cell_type": "code",
   "execution_count": 69,
   "metadata": {
    "collapsed": true
   },
   "outputs": [],
   "source": [
    "#Load BP results\n",
    "sns.set_style('ticks')\n",
    "\n",
    "lmbda = 5e-5\n",
    "var_xi = 0.5\n",
    "method = 'backprop'\n",
    "learning_rate = 1e-3\n",
    "\n",
    "#Load data from script\n",
    "fn_in = './experiments/cartpole_rnn_partialobs/%s_learning_rate_%f_lmbda_%f_varxi_%f.npz'%(method, learning_rate, lmbda, var_xi)\n",
    "with open(fn_in, 'rb') as f:\n",
    "    data = pickle.load(f)\n",
    "\n",
    "xs = data['xs']\n",
    "params = data['params']\n",
    "\n",
    "theta_d_bp = xs[:,:,:,:,0].reshape(N_epochs,-1, nB)\n",
    "theta_bp = xs[:,:,:,:,1].reshape(N_epochs,-1,nB)\n",
    "h_d_bp = xs[:,:,:,:,2].reshape(N_epochs,-1,nB)\n",
    "h_bp = xs[:,:,:,:,3].reshape(N_epochs,-1,nB)"
   ]
  },
  {
   "cell_type": "code",
   "execution_count": 86,
   "metadata": {},
   "outputs": [
    {
     "data": {
      "text/plain": [
       "(20, 5000)"
      ]
     },
     "execution_count": 86,
     "metadata": {},
     "output_type": "execute_result"
    }
   ],
   "source": [
    "bp_fallrate.shape"
   ]
  },
  {
   "cell_type": "code",
   "execution_count": 111,
   "metadata": {},
   "outputs": [
    {
     "name": "stderr",
     "output_type": "stream",
     "text": [
      "/opt/anaconda/miniconda2/envs/py34/lib/python3.6/site-packages/scipy/stats/stats.py:1713: FutureWarning: Using a non-tuple sequence for multidimensional indexing is deprecated; use `arr[tuple(seq)]` instead of `arr[seq]`. In the future this will be interpreted as an array index, `arr[np.array(seq)]`, which will result either in an error or a different result.\n",
      "  return np.add.reduce(sorted[indexer] * weights, axis=axis) / sumval\n"
     ]
    },
    {
     "data": {
      "image/png": "[encoded data removed]",
      "text/plain": [
       "<Figure size 288x288 with 1 Axes>"
      ]
     },
     "metadata": {},
     "output_type": "display_data"
    }
   ],
   "source": [
    "fig, axis = plt.subplots(1,1,figsize = (4,4))\n",
    "\n",
    "bp_fallrate = 1-np.mean(theta_bp<np.pi/8, 1).T\n",
    "fa_fallrate = 1-np.mean(theta_fa<np.pi/8, 1).T\n",
    "np_fallrate = 1-np.mean(theta_np<np.pi/8, 1).T\n",
    "\n",
    "bp_fallrate_smooth = scipy.ndimage.filters.gaussian_filter1d(bp_fallrate, 75, axis=1)\n",
    "fa_fallrate_smooth = scipy.ndimage.filters.gaussian_filter1d(fa_fallrate, 75, axis=1)\n",
    "np_fallrate_smooth = scipy.ndimage.filters.gaussian_filter1d(np_fallrate, 75, axis=1)\n",
    "\n",
    "sns.tsplot(bp_fallrate_smooth, ax = axis, color = 'C0', ci = 95)\n",
    "sns.tsplot(fa_fallrate_smooth, ax = axis, color = 'C1', ci = 95)\n",
    "sns.tsplot(np_fallrate_smooth, ax = axis, color = 'C2', ci = 95)\n",
    "\n",
    "axis.set_xlabel('trial #')\n",
    "axis.set_xlim([0, 5000])\n",
    "axis.set_yscale('log')\n",
    "axis.set_ylim([1e-4, 1])\n",
    "axis.set_ylabel('proportion of time falls')\n",
    "sns.despine(trim=True)\n",
    "axis.legend(['Backpropagation', 'Feedback alignment', 'Node perturbation'])\n",
    "#plt.savefig('./figures/fig_5_cartpole.pdf')"
   ]
  },
  {
   "cell_type": "code",
   "execution_count": 115,
   "metadata": {},
   "outputs": [
    {
     "name": "stdout",
     "output_type": "stream",
     "text": [
      "BP final fall rate: 0.000040\n",
      "FA final fall rate: 0.003339\n",
      "NP final fall rate: 0.001369\n"
     ]
    }
   ],
   "source": [
    "#Final values for each:\n",
    "print(\"BP final fall rate: %f\"%np.mean(bp_fallrate_smooth, 0)[-1])\n",
    "print(\"FA final fall rate: %f\"%np.mean(fa_fallrate_smooth, 0)[-1])\n",
    "print(\"NP final fall rate: %f\"%np.mean(np_fallrate_smooth, 0)[-1])"
   ]
  },
  {
   "cell_type": "markdown",
   "metadata": {
    "collapsed": true
   },
   "source": [
    "## Multiple runs"
   ]
  },
  {
   "cell_type": "code",
   "execution_count": 23,
   "metadata": {},
   "outputs": [
    {
     "name": "stdout",
     "output_type": "stream",
     "text": [
      "/home/lansdell/projects/synthfeedback\n"
     ]
    }
   ],
   "source": [
    "cd /home/lansdell/projects/synthfeedback/"
   ]
  },
  {
   "cell_type": "code",
   "execution_count": 44,
   "metadata": {
    "collapsed": true
   },
   "outputs": [],
   "source": [
    "def smooth(y, box_pts=50):\n",
    "    box = np.ones(box_pts)/box_pts\n",
    "    y_smooth = np.convolve(y, box, mode='same')\n",
    "    return y_smooth"
   ]
  },
  {
   "cell_type": "code",
   "execution_count": 29,
   "metadata": {
    "collapsed": true
   },
   "outputs": [],
   "source": [
    "#Load BP results\n",
    "lmbda = 5e-3\n",
    "var_xi = 0.01\n",
    "method = 'backprop'\n",
    "learning_rate = 1e-3\n",
    "N_epochs = 5000\n",
    "nB = 20\n",
    "#Load data from script\n",
    "fn_in = './experiments/cartpole_rnn_partialobs_sgdnp/%s_learning_rate_%f_lmbda_%f_varxi_%f_multipleruns.npz'%(method, learning_rate, lmbda, var_xi)\n",
    "with open(fn_in, 'rb') as f:\n",
    "    data = pickle.load(f)\n",
    "\n",
    "xs = data['xs']\n",
    "params = data['params']\n",
    "\n",
    "theta_d_bp = xs[:,:,:,:,:,0].reshape(5, N_epochs,-1, nB)\n",
    "theta_bp = xs[:,:,:,:,:,1].reshape(5, N_epochs,-1,nB)\n",
    "h_d_bp = xs[:,:,:,:,:,2].reshape(5, N_epochs,-1,nB)\n",
    "h_bp = xs[:,:,:,:,:,3].reshape(5, N_epochs,-1,nB)"
   ]
  },
  {
   "cell_type": "code",
   "execution_count": 30,
   "metadata": {},
   "outputs": [
    {
     "data": {
      "text/plain": [
       "(5, 5000, 100, 20)"
      ]
     },
     "execution_count": 30,
     "metadata": {},
     "output_type": "execute_result"
    }
   ],
   "source": [
    "theta_bp.shape"
   ]
  },
  {
   "cell_type": "code",
   "execution_count": 45,
   "metadata": {
    "collapsed": true
   },
   "outputs": [],
   "source": [
    "#Load FA results\n",
    "lmbda = 5e-3\n",
    "var_xi = 0.01\n",
    "method = 'feedbackalignment'\n",
    "learning_rate = 1e-3\n",
    "N_epochs = 5000\n",
    "nB = 20\n",
    "#Load data from script\n",
    "fn_in = './experiments/cartpole_rnn_partialobs_sgdnp/%s_learning_rate_%f_lmbda_%f_varxi_%f_multipleruns.npz'%(method, learning_rate, lmbda, var_xi)\n",
    "with open(fn_in, 'rb') as f:\n",
    "    data = pickle.load(f)\n",
    "\n",
    "xs = data['xs']\n",
    "params = data['params']\n",
    "\n",
    "theta_d_fa = xs[:,:,:,:,:,0].reshape(5, N_epochs,-1, nB)\n",
    "theta_fa = xs[:,:,:,:,:,1].reshape(5, N_epochs,-1,nB)\n",
    "h_d_fa = xs[:,:,:,:,:,2].reshape(5, N_epochs,-1,nB)\n",
    "h_fa = xs[:,:,:,:,:,3].reshape(5, N_epochs,-1,nB)"
   ]
  },
  {
   "cell_type": "code",
   "execution_count": 47,
   "metadata": {
    "collapsed": true
   },
   "outputs": [],
   "source": [
    "#Load NP results\n",
    "lmbda = 5e-3\n",
    "var_xi = 0.01\n",
    "method = 'nodepert'\n",
    "learning_rate = 1e-3\n",
    "N_epochs = 5000\n",
    "nB = 20\n",
    "#Load data from script\n",
    "fn_in = './experiments/cartpole_rnn_partialobs_sgdnp/%s_learning_rate_%f_lmbda_%f_varxi_%f_multipleruns.npz'%(method, learning_rate, lmbda, var_xi)\n",
    "with open(fn_in, 'rb') as f:\n",
    "    data = pickle.load(f)\n",
    "\n",
    "xs = data['xs']\n",
    "params = data['params']\n",
    "\n",
    "theta_d_np = xs[:,:,:,:,:,0].reshape(5, N_epochs,-1, nB)\n",
    "theta_np = xs[:,:,:,:,:,1].reshape(5, N_epochs,-1,nB)\n",
    "h_d_np = xs[:,:,:,:,:,2].reshape(5, N_epochs,-1,nB)\n",
    "h_np = xs[:,:,:,:,:,3].reshape(5, N_epochs,-1,nB)"
   ]
  },
  {
   "cell_type": "code",
   "execution_count": 50,
   "metadata": {
    "scrolled": true
   },
   "outputs": [
    {
     "data": {
      "image/png": "[encoded data removed]",
      "text/plain": [
       "<matplotlib.figure.Figure at 0x7f8ac2221cf8>"
      ]
     },
     "metadata": {
      "needs_background": "light"
     },
     "output_type": "display_data"
    }
   ],
   "source": [
    "fig, axis = plt.subplots(1,1,figsize = (4,4))\n",
    "\n",
    "threshold = np.pi/6\n",
    "\n",
    "bp_fallrates = 1-np.mean(theta_bp[:,:,:,:]<threshold, 2)\n",
    "bp_fallrates = np.mean(bp_fallrates,0)\n",
    "bp_fallrates = smooth(np.mean(bp_fallrates,1))\n",
    "\n",
    "fa_fallrates = 1-np.mean(theta_fa[:,:,:,:]<threshold, 2)\n",
    "fa_fallrates = np.mean(fa_fallrates,0)\n",
    "fa_fallrates = smooth(np.mean(fa_fallrates,1))\n",
    "\n",
    "np_fallrates = 1-np.mean(theta_np[:,:,:,:]<threshold, 2)\n",
    "np_fallrates = np.mean(np_fallrates,0)\n",
    "np_fallrates = smooth(np.mean(np_fallrates,1))\n",
    "\n",
    "sns.tsplot(bp_fallrates, ax = axis, color = 'C0', ci = 95)\n",
    "sns.tsplot(fa_fallrates, ax = axis, color = 'C1', ci = 95)\n",
    "sns.tsplot(np_fallrates, ax = axis, color = 'C2', ci = 95)\n",
    "\n",
    "axis.set_xlabel('trial #')\n",
    "axis.set_yscale('log')\n",
    "axis.set_ylim([1e-4, 1])\n",
    "axis.set_ylabel('proportion of time falls')\n",
    "sns.despine(trim=True)"
   ]
  },
  {
   "cell_type": "markdown",
   "metadata": {
    "collapsed": true
   },
   "source": [
    "The methods are the same! Need a more challenging task. How about one with delayed actions?"
   ]
  },
  {
   "cell_type": "markdown",
   "metadata": {
    "collapsed": true
   },
   "source": [
    "## Multiple runs with delayed actions"
   ]
  },
  {
   "cell_type": "code",
   "execution_count": 23,
   "metadata": {},
   "outputs": [
    {
     "name": "stdout",
     "output_type": "stream",
     "text": [
      "/home/lansdell/projects/synthfeedback\n"
     ]
    }
   ],
   "source": [
    "cd /home/lansdell/projects/synthfeedback/"
   ]
  },
  {
   "cell_type": "code",
   "execution_count": 112,
   "metadata": {
    "collapsed": true
   },
   "outputs": [],
   "source": [
    "def smooth(y, box_pts=50):\n",
    "    box = np.ones(box_pts)/box_pts\n",
    "    if len(y.shape) == 2:\n",
    "        y_smooth = y.copy()\n",
    "        for i in range(y.shape[0]):\n",
    "            y_smooth[i,:] = np.convolve(y[i,:], box, mode='same')\n",
    "    else:\n",
    "        y_smooth = np.convolve(y, box, mode='same')\n",
    "    return y_smooth"
   ]
  },
  {
   "cell_type": "code",
   "execution_count": 92,
   "metadata": {
    "collapsed": true
   },
   "outputs": [],
   "source": [
    "#Load BP results\n",
    "lmbda = 5e-3\n",
    "var_xi = 0.01\n",
    "method = 'backprop'\n",
    "learning_rate = 1e-3\n",
    "N_epochs = 10000\n",
    "nB = 20\n",
    "#Load data from script\n",
    "fn_in = './experiments/cartpole_rnn_partialobs_sgdnp_delayed/%s_learning_rate_%f_lmbda_%f_varxi_%f_multipleruns.npz'%(method, learning_rate, lmbda, var_xi)\n",
    "with open(fn_in, 'rb') as f:\n",
    "    data = pickle.load(f)\n",
    "\n",
    "xs = data['xs']\n",
    "params = data['params']\n",
    "Nruns = 5\n",
    "theta_d_bp = xs[:,:,:,:,:,0].reshape(Nruns, N_epochs,-1, nB)\n",
    "theta_bp = xs[:,:,:,:,:,1].reshape(Nruns, N_epochs,-1,nB)\n",
    "h_d_bp = xs[:,:,:,:,:,2].reshape(Nruns, N_epochs,-1,nB)\n",
    "h_bp = xs[:,:,:,:,:,3].reshape(Nruns, N_epochs,-1,nB)"
   ]
  },
  {
   "cell_type": "code",
   "execution_count": 93,
   "metadata": {},
   "outputs": [
    {
     "data": {
      "text/plain": [
       "(5, 10000, 100, 20)"
      ]
     },
     "execution_count": 93,
     "metadata": {},
     "output_type": "execute_result"
    }
   ],
   "source": [
    "theta_bp.shape"
   ]
  },
  {
   "cell_type": "code",
   "execution_count": 94,
   "metadata": {
    "collapsed": true
   },
   "outputs": [],
   "source": [
    "#Load FA results\n",
    "lmbda = 5e-3\n",
    "var_xi = 0.01\n",
    "method = 'feedbackalignment'\n",
    "learning_rate = 1e-3\n",
    "N_epochs = 10000\n",
    "nB = 20\n",
    "#Load data from script\n",
    "fn_in = './experiments/cartpole_rnn_partialobs_sgdnp_delayed/%s_learning_rate_%f_lmbda_%f_varxi_%f_multipleruns.npz'%(method, learning_rate, lmbda, var_xi)\n",
    "with open(fn_in, 'rb') as f:\n",
    "    data = pickle.load(f)\n",
    "\n",
    "xs = data['xs']\n",
    "params = data['params']\n",
    "\n",
    "theta_d_fa = xs[:,:,:,:,:,0].reshape(Nruns, N_epochs,-1, nB)\n",
    "theta_fa = xs[:,:,:,:,:,1].reshape(Nruns, N_epochs,-1,nB)\n",
    "h_d_fa = xs[:,:,:,:,:,2].reshape(Nruns, N_epochs,-1,nB)\n",
    "h_fa = xs[:,:,:,:,:,3].reshape(Nruns, N_epochs,-1,nB)"
   ]
  },
  {
   "cell_type": "code",
   "execution_count": 106,
   "metadata": {
    "collapsed": true
   },
   "outputs": [],
   "source": [
    "#Load NP results\n",
    "lmbda = 5e-3\n",
    "var_xi = 0.01\n",
    "method = 'nodepert'\n",
    "learning_rate = 1e-3\n",
    "N_epochs = 10000\n",
    "nB = 20\n",
    "#Load data from script\n",
    "fn_in = './experiments/cartpole_rnn_partialobs_sgdnp/%s_learning_rate_%f_lmbda_%f_varxi_%f_multipleruns.npz'%(method, learning_rate, lmbda, var_xi)\n",
    "with open(fn_in, 'rb') as f:\n",
    "    data = pickle.load(f)\n",
    "\n",
    "xs = data['xs']\n",
    "params = data['params']\n",
    "\n",
    "theta_d_np = xs[:,:,:,:,:,0].reshape(Nruns, N_epochs,-1, nB)\n",
    "theta_np = xs[:,:,:,:,:,1].reshape(Nruns, N_epochs,-1,nB)\n",
    "h_d_np = xs[:,:,:,:,:,2].reshape(Nruns, N_epochs,-1,nB)\n",
    "h_np = xs[:,:,:,:,:,3].reshape(Nruns, N_epochs,-1,nB)"
   ]
  },
  {
   "cell_type": "code",
   "execution_count": 110,
   "metadata": {},
   "outputs": [
    {
     "data": {
      "text/plain": [
       "(5, 10000)"
      ]
     },
     "execution_count": 110,
     "metadata": {},
     "output_type": "execute_result"
    }
   ],
   "source": [
    "theta_bp.shape\n",
    "bp_fallrates = 1-np.mean(theta_bp[:,:,:,:]<threshold, 2)\n",
    "bp_fallrates = np.mean(bp_fallrates, 2)\n",
    "bp_fallrates.shape"
   ]
  },
  {
   "cell_type": "code",
   "execution_count": 115,
   "metadata": {
    "scrolled": true
   },
   "outputs": [
    {
     "data": {
      "image/png": "[encoded data removed]",
      "text/plain": [
       "<matplotlib.figure.Figure at 0x7f8ac1f967f0>"
      ]
     },
     "metadata": {},
     "output_type": "display_data"
    }
   ],
   "source": [
    "fig, axis = plt.subplots(1,1,figsize = (4,4))\n",
    "\n",
    "threshold = np.pi/6\n",
    "\n",
    "bp_fallrates = 1-np.mean(theta_bp[:,:,:,:]<threshold, 2)\n",
    "bp_fallrates = np.mean(bp_fallrates,2)\n",
    "bp_fallrates = smooth(bp_fallrates)\n",
    "\n",
    "fa_fallrates = 1-np.mean(theta_fa[:,:,:,:]<threshold, 2)\n",
    "fa_fallrates = np.mean(fa_fallrates,2)\n",
    "fa_fallrates = smooth(fa_fallrates)\n",
    "\n",
    "np_fallrates = 1-np.mean(theta_np[:,:,:,:]<threshold, 2)\n",
    "np_fallrates = np.mean(np_fallrates,2)\n",
    "np_fallrates = smooth(np_fallrates)\n",
    "\n",
    "sns.tsplot(bp_fallrates, ax = axis, color = 'C0', ci = 68)\n",
    "sns.tsplot(fa_fallrates, ax = axis, color = 'C1', ci = 68)\n",
    "sns.tsplot(np_fallrates, ax = axis, color = 'C2', ci = 68)\n",
    "\n",
    "axis.set_xlabel('trial #')\n",
    "#axis.set_yscale('log')\n",
    "axis.legend(['BP', 'FA', 'NP'])\n",
    "axis.set_xlim([0, 10000])\n",
    "axis.set_ylabel('proportion of time falls')\n",
    "sns.despine(trim=True)\n",
    "plt.savefig('./figures/cartpole_partialobs_results_delayed.pdf')"
   ]
  },
  {
   "cell_type": "code",
   "execution_count": null,
   "metadata": {
    "collapsed": true
   },
   "outputs": [],
   "source": []
  }
 ],
 "metadata": {
  "kernelspec": {
   "display_name": "Python [conda env:py34]",
   "language": "python",
   "name": "conda-env-py34-py"
  },
  "language_info": {
   "codemirror_mode": {
    "name": "ipython",
    "version": 3
   },
   "file_extension": ".py",
   "mimetype": "text/x-python",
   "name": "python",
   "nbconvert_exporter": "python",
   "pygments_lexer": "ipython3",
   "version": "3.6.6"
  }
 },
 "nbformat": 4,
 "nbformat_minor": 2
}
