{
 "cells": [
  {
   "cell_type": "code",
   "execution_count": null,
   "metadata": {},
   "outputs": [],
   "source": []
  },
  {
   "cell_type": "code",
   "execution_count": 2,
   "metadata": {},
   "outputs": [
    {
     "name": "stdout",
     "output_type": "stream",
     "text": [
      "Populating the interactive namespace from numpy and matplotlib\n"
     ]
    }
   ],
   "source": [
    "%pylab inline\n",
    "import os\n",
    "import numpy as np\n",
    "import matplotlib.pyplot as plt\n",
    "import pickle\n",
    "import seaborn as sns\n",
    "import scipy \n",
    "sns.set_style('ticks')"
   ]
  },
  {
   "cell_type": "markdown",
   "metadata": {},
   "source": [
    "## Cartpole RNN with partial observability.\n",
    "\n",
    "Only observe the position and angle -- requires integration over time to solve the problem"
   ]
  },
  {
   "cell_type": "markdown",
   "metadata": {
    "collapsed": true
   },
   "source": [
    "## Multiple runs with delayed actions"
   ]
  },
  {
   "cell_type": "code",
   "execution_count": 3,
   "metadata": {
    "collapsed": true
   },
   "outputs": [],
   "source": [
    "def smooth(y, box_pts=50):\n",
    "    box = np.ones(box_pts)/box_pts\n",
    "    if len(y.shape) == 2:\n",
    "        y_smooth = y.copy()\n",
    "        for i in range(y.shape[0]):\n",
    "            y_smooth[i,:] = np.convolve(y[i,:], box, mode='same')\n",
    "    else:\n",
    "        y_smooth = np.convolve(y, box, mode='same')\n",
    "    return y_smooth"
   ]
  },
  {
   "cell_type": "code",
   "execution_count": 18,
   "metadata": {
    "collapsed": true
   },
   "outputs": [],
   "source": [
    "#Load BP results\n",
    "lmbda = 5e-3\n",
    "var_xi = 0.01\n",
    "method = 'backprop'\n",
    "learning_rate = 1e-3\n",
    "N_epochs = 10000\n",
    "nB = 20\n",
    "#Load data from script\n",
    "fn_in = './experiments/cartpole_rnn_partialobs_sgdnp_delayed/%s_learning_rate_%f_lmbda_%f_varxi_%f_multipleruns.npz'%(method, learning_rate, lmbda, var_xi)\n",
    "with open(fn_in, 'rb') as f:\n",
    "    data = pickle.load(f)\n",
    "\n",
    "xs = data['xs']\n",
    "params = data['params']\n",
    "Nruns = 5\n",
    "theta_d_bp = xs[:,:,:,:,:,0].reshape(Nruns, N_epochs,-1, nB)\n",
    "theta_bp = xs[:,:,:,:,:,1].reshape(Nruns, N_epochs,-1,nB)\n",
    "h_d_bp = xs[:,:,:,:,:,2].reshape(Nruns, N_epochs,-1,nB)\n",
    "h_bp = xs[:,:,:,:,:,3].reshape(Nruns, N_epochs,-1,nB)"
   ]
  },
  {
   "cell_type": "code",
   "execution_count": 19,
   "metadata": {},
   "outputs": [
    {
     "data": {
      "text/plain": [
       "(5, 10000, 100, 20)"
      ]
     },
     "execution_count": 19,
     "metadata": {},
     "output_type": "execute_result"
    }
   ],
   "source": [
    "theta_bp.shape"
   ]
  },
  {
   "cell_type": "code",
   "execution_count": 20,
   "metadata": {
    "collapsed": true
   },
   "outputs": [],
   "source": [
    "#Load FA results\n",
    "lmbda = 5e-3\n",
    "var_xi = 0.01\n",
    "method = 'feedbackalignment'\n",
    "learning_rate = 1e-3\n",
    "N_epochs = 10000\n",
    "nB = 20\n",
    "#Load data from script\n",
    "fn_in = './experiments/cartpole_rnn_partialobs_sgdnp_delayed/%s_learning_rate_%f_lmbda_%f_varxi_%f_multipleruns.npz'%(method, learning_rate, lmbda, var_xi)\n",
    "with open(fn_in, 'rb') as f:\n",
    "    data = pickle.load(f)\n",
    "\n",
    "xs = data['xs']\n",
    "params = data['params']\n",
    "\n",
    "theta_d_fa = xs[:,:,:,:,:,0].reshape(Nruns, N_epochs,-1, nB)\n",
    "theta_fa = xs[:,:,:,:,:,1].reshape(Nruns, N_epochs,-1,nB)\n",
    "h_d_fa = xs[:,:,:,:,:,2].reshape(Nruns, N_epochs,-1,nB)\n",
    "h_fa = xs[:,:,:,:,:,3].reshape(Nruns, N_epochs,-1,nB)"
   ]
  },
  {
   "cell_type": "code",
   "execution_count": 21,
   "metadata": {
    "collapsed": true
   },
   "outputs": [],
   "source": [
    "#Load NP results\n",
    "lmbda = 5e-3\n",
    "var_xi = 0.01\n",
    "method = 'nodepert'\n",
    "learning_rate = 1e-3\n",
    "N_epochs = 10000\n",
    "nB = 20\n",
    "#Load data from script\n",
    "fn_in = './experiments/cartpole_rnn_partialobs_sgdnp/%s_learning_rate_%f_lmbda_%f_varxi_%f_multipleruns.npz'%(method, learning_rate, lmbda, var_xi)\n",
    "with open(fn_in, 'rb') as f:\n",
    "    data = pickle.load(f)\n",
    "\n",
    "xs = data['xs']\n",
    "params = data['params']\n",
    "\n",
    "theta_d_np = xs[:,:,:,:,:,0].reshape(Nruns, N_epochs,-1, nB)\n",
    "theta_np = xs[:,:,:,:,:,1].reshape(Nruns, N_epochs,-1,nB)\n",
    "h_d_np = xs[:,:,:,:,:,2].reshape(Nruns, N_epochs,-1,nB)\n",
    "h_np = xs[:,:,:,:,:,3].reshape(Nruns, N_epochs,-1,nB)"
   ]
  },
  {
   "cell_type": "code",
   "execution_count": 22,
   "metadata": {},
   "outputs": [
    {
     "data": {
      "text/plain": [
       "(5, 10000)"
      ]
     },
     "execution_count": 22,
     "metadata": {},
     "output_type": "execute_result"
    }
   ],
   "source": [
    "threshold = np.pi/8\n",
    "theta_bp.shape\n",
    "bp_fallrates = 1-np.mean(theta_bp[:,:,:,:]<threshold, 2)\n",
    "bp_fallrates = np.mean(bp_fallrates, 2)\n",
    "bp_fallrates.shape"
   ]
  },
  {
   "cell_type": "code",
   "execution_count": 23,
   "metadata": {
    "scrolled": true
   },
   "outputs": [
    {
     "data": {
      "image/png": "[encoded data removed]",
      "text/plain": [
       "<matplotlib.figure.Figure at 0x7f14981427b8>"
      ]
     },
     "metadata": {
      "needs_background": "light"
     },
     "output_type": "display_data"
    }
   ],
   "source": [
    "fig, axis = plt.subplots(1,1,figsize = (4,4))\n",
    "\n",
    "threshold = np.pi/6\n",
    "\n",
    "bp_fallrates = 1-np.mean(theta_bp[:,:,:,:]<threshold, 2)\n",
    "bp_fallrates = np.mean(bp_fallrates,2)\n",
    "bp_fallrates = smooth(bp_fallrates)\n",
    "\n",
    "fa_fallrates = 1-np.mean(theta_fa[:,:,:,:]<threshold, 2)\n",
    "fa_fallrates = np.mean(fa_fallrates,2)\n",
    "fa_fallrates = smooth(fa_fallrates)\n",
    "\n",
    "np_fallrates = 1-np.mean(theta_np[:,:,:,:]<threshold, 2)\n",
    "np_fallrates = np.mean(np_fallrates,2)\n",
    "np_fallrates = smooth(np_fallrates)\n",
    "\n",
    "sns.tsplot(bp_fallrates, ax = axis, color = 'C0', ci = 68)\n",
    "sns.tsplot(fa_fallrates, ax = axis, color = 'C1', ci = 68)\n",
    "sns.tsplot(np_fallrates, ax = axis, color = 'C2', ci = 68)\n",
    "\n",
    "axis.set_xlabel('trial #')\n",
    "#axis.set_yscale('log')\n",
    "axis.legend(['BP', 'FA', 'NP'])\n",
    "axis.set_xlim([0, 10000])\n",
    "axis.set_ylabel('proportion of time falls')\n",
    "sns.despine(trim=True)\n",
    "#plt.savefig('./figures/cartpole_partialobs_results_delayed.pdf')"
   ]
  },
  {
   "cell_type": "code",
   "execution_count": null,
   "metadata": {
    "collapsed": true
   },
   "outputs": [],
   "source": []
  }
 ],
 "metadata": {
  "kernelspec": {
   "display_name": "Python [conda env:py34]",
   "language": "python",
   "name": "conda-env-py34-py"
  },
  "language_info": {
   "codemirror_mode": {
    "name": "ipython",
    "version": 3
   },
   "file_extension": ".py",
   "mimetype": "text/x-python",
   "name": "python",
   "nbconvert_exporter": "python",
   "pygments_lexer": "ipython3",
   "version": "3.6.6"
  }
 },
 "nbformat": 4,
 "nbformat_minor": 2
}
