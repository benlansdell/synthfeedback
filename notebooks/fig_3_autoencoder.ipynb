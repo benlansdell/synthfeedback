{
 "cells": [
  {
   "cell_type": "code",
   "execution_count": 1,
   "metadata": {},
   "outputs": [
    {
     "name": "stdout",
     "output_type": "stream",
     "text": [
      "Populating the interactive namespace from numpy and matplotlib\n"
     ]
    }
   ],
   "source": [
    "%pylab inline\n",
    "import numpy as np\n",
    "import numpy.random as rand\n",
    "import tensorflow as tf\n",
    "import matplotlib.pyplot as plt\n",
    "from numpy import random as rng\n",
    "import seaborn as sns\n",
    "import pickle\n",
    "import argparse\n",
    "import pandas as pd \n",
    "import pickle\n",
    "sns.set_style('ticks')"
   ]
  },
  {
   "cell_type": "code",
   "execution_count": 3,
   "metadata": {},
   "outputs": [
    {
     "name": "stdout",
     "output_type": "stream",
     "text": [
      "/home/lansdell/projects/synthfeedback\n"
     ]
    }
   ],
   "source": [
    "cd /home/lansdell/projects/synthfeedback/"
   ]
  },
  {
   "cell_type": "code",
   "execution_count": null,
   "metadata": {},
   "outputs": [],
   "source": []
  },
  {
   "cell_type": "markdown",
   "metadata": {
    "collapsed": true
   },
   "source": [
    "## Plot all on same curve"
   ]
  },
  {
   "cell_type": "code",
   "execution_count": 6,
   "metadata": {
    "collapsed": true
   },
   "outputs": [],
   "source": [
    "#idx = 0; # loss\n",
    "idx = 2; # test loss\n",
    "\n",
    "#Load BP data from script\n",
    "model = 'bpself'\n",
    "fn_in = './experiments/nodepert_ae5_%s/summary/3_autoencoder.npz'%model\n",
    "#fn_in = './experiments/nodepert_ae5_bp_convparams/summary/3_autoencoder_correctbatch.npz'\n",
    "with open(fn_in, 'rb') as f:\n",
    "    data = pickle.load(f)\n",
    "tags = data['tags']\n",
    "metrics = data['metrics']\n",
    "loss_BP = metrics[0,:,:,idx]\n",
    "\n",
    "#Load FA data\n",
    "model = 'faself'\n",
    "fn_in = './experiments/nodepert_ae5_%s/summary/3_autoencoder.npz'%model\n",
    "#fn_in = './experiments/nodepert_ae5_fa_convparams/summary/3_autoencoder_correctbatch.npz'\n",
    "with open(fn_in, 'rb') as f:\n",
    "    data = pickle.load(f)\n",
    "tags = data['tags']\n",
    "metrics = data['metrics']\n",
    "loss_FA = metrics[0,:,:,idx]\n",
    "\n",
    "\n",
    "#Load NP data\n",
    "fn_in = './experiments/nodepert_ae5_sgd_convparams/summary/3_autoencoder_correctbatch.npz'\n",
    "with open(fn_in, 'rb') as f:\n",
    "    data = pickle.load(f)\n",
    "tags = data['tags']\n",
    "metrics = data['metrics']\n",
    "loss_NP = metrics[:,0,:,idx].T"
   ]
  },
  {
   "cell_type": "code",
   "execution_count": 54,
   "metadata": {},
   "outputs": [
    {
     "data": {
      "text/plain": [
       "(1, 1, 501, 13)"
      ]
     },
     "execution_count": 54,
     "metadata": {},
     "output_type": "execute_result"
    }
   ],
   "source": [
    "metrics.shape"
   ]
  },
  {
   "cell_type": "code",
   "execution_count": null,
   "metadata": {},
   "outputs": [],
   "source": [
    "fig,axes = plt.subplots(1,1,figsize=(4,4))\n",
    "\n",
    "sns.tsplot(loss_BP, ax = axes, color='C0')\n",
    "sns.tsplot(loss_FA, ax = axes, color='C1')\n",
    "sns.tsplot(np.squeeze(loss_NP), ax = axes, color='C2')\n",
    "\n",
    "axes.legend(['backpropagation', 'feedback alignment', 'node perturbation'])\n",
    "#axes.set_yscale('log')\n",
    "axes.set_xlabel('iteration');\n",
    "#axes.set_ylim([450, 1200])\n",
    "axes.set_ylabel('loss')\n",
    "sns.despine(trim=True)\n",
    "#plt.savefig('./figures/3_autoencoder_losses.pdf')"
   ]
  },
  {
   "cell_type": "code",
   "execution_count": null,
   "metadata": {
    "collapsed": true
   },
   "outputs": [],
   "source": []
  }
 ],
 "metadata": {
  "kernelspec": {
   "display_name": "Python [conda env:py34]",
   "language": "python",
   "name": "conda-env-py34-py"
  },
  "language_info": {
   "codemirror_mode": {
    "name": "ipython",
    "version": 3
   },
   "file_extension": ".py",
   "mimetype": "text/x-python",
   "name": "python",
   "nbconvert_exporter": "python",
   "pygments_lexer": "ipython3",
   "version": "3.6.6"
  }
 },
 "nbformat": 4,
 "nbformat_minor": 2
}
