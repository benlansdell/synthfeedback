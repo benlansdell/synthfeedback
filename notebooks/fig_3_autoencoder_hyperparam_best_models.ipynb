{
 "cells": [
  {
   "cell_type": "code",
   "execution_count": 28,
   "metadata": {},
   "outputs": [
    {
     "name": "stdout",
     "output_type": "stream",
     "text": [
      "Populating the interactive namespace from numpy and matplotlib\n"
     ]
    },
    {
     "name": "stderr",
     "output_type": "stream",
     "text": [
      "/opt/anaconda/miniconda2/envs/py34/lib/python3.6/site-packages/IPython/core/magics/pylab.py:161: UserWarning: pylab import has clobbered these variables: ['f', 'rand']\n",
      "`%matplotlib` prevents importing * from pylab and numpy\n",
      "  \"\\n`%matplotlib` prevents importing * from pylab and numpy\"\n"
     ]
    }
   ],
   "source": [
    "%pylab inline\n",
    "import numpy as np\n",
    "import numpy.random as rand\n",
    "import tensorflow as tf\n",
    "import matplotlib.pyplot as plt\n",
    "from numpy import random as rng\n",
    "import seaborn as sns\n",
    "import pickle\n",
    "import argparse\n",
    "import pandas as pd \n",
    "import pickle\n",
    "sns.set_style('ticks')"
   ]
  },
  {
   "cell_type": "code",
   "execution_count": 27,
   "metadata": {},
   "outputs": [
    {
     "name": "stdout",
     "output_type": "stream",
     "text": [
      "/home/lansdell/projects/synthfeedback\n"
     ]
    }
   ],
   "source": [
    "#Find the best models from the hyperparameter search\n",
    "%cd /home/lansdell/projects/synthfeedback/"
   ]
  },
  {
   "cell_type": "markdown",
   "metadata": {
    "collapsed": true
   },
   "source": [
    "## Load models"
   ]
  },
  {
   "cell_type": "code",
   "execution_count": 16,
   "metadata": {
    "collapsed": true
   },
   "outputs": [],
   "source": [
    "#Load BP data from script\n",
    "#model = 'bpself'\n",
    "#fn_in = './experiments/nodepert_ae5_%s/summary/3_autoencoder.npz'%model\n",
    "#fn_in = './experiments/nodepert_ae5_bp_convparams/summary/3_autoencoder_correctbatch.npz'\n",
    "#with open(fn_in, 'rb') as f:\n",
    "#    data = pickle.load(f)\n",
    "#tags = data['tags']\n",
    "#metrics = data['metrics']\n",
    "#loss_BP = metrics[0,:,:,0]\n",
    "\n",
    "#Load FA data\n",
    "#model = 'faself'\n",
    "#fn_in = './experiments/nodepert_ae5_%s/summary/3_autoencoder.npz'%model\n",
    "#fn_in = './experiments/nodepert_ae5_fa_convparams/summary/3_autoencoder_correctbatch.npz'\n",
    "#with open(fn_in, 'rb') as f:\n",
    "#    data = pickle.load(f)\n",
    "#tags = data['tags']\n",
    "#metrics = data['metrics']\n",
    "#loss_FA = metrics[0,:,:,0]\n",
    "\n",
    "#Load NP data\n",
    "#fn_in = './experiments/nodepert_ae5_sgd/summary/3_autoencoder_correctbatch_hyperparam.npz'\n",
    "#with open(fn_in, 'rb') as f:\n",
    "#    data = pickle.load(f)\n",
    "#tags = data['tags']\n",
    "#metrics = data['metrics']\n",
    "#loss_NP = metrics[:,0,:,0].T\n",
    "#params = data['params']\n",
    "#test_losses = data['test_losses']\n",
    "#print('Minimum for AE NP: ', np.min(test_losses))\n",
    "\n",
    "#Load ADAM data\n",
    "#fn_in = './experiments/nodepert_ae5_adam/summary/3_autoencoder_correctbatch_hyperparam.npz'\n",
    "#with open(fn_in, 'rb') as f:\n",
    "#    data = pickle.load(f)\n",
    "#tags = data['tags']\n",
    "#metrics = data['metrics']\n",
    "#loss_ADAM = metrics[:,0,:,0].T\n",
    "#params = data['params']\n",
    "#test_losses = data['test_losses']\n",
    "#print('Minimum for AE ADAM: ', np.min(test_losses))"
   ]
  },
  {
   "cell_type": "code",
   "execution_count": 13,
   "metadata": {},
   "outputs": [
    {
     "name": "stdout",
     "output_type": "stream",
     "text": [
      "Minimum for AE FA:  702.7919311523438\n",
      "3.4722373454283575e-06\n"
     ]
    }
   ],
   "source": [
    "method = 'faauto'\n",
    "fn_in = './experiments/nodepert_ae5_%s/summary/3_autoencoder_correctbatch_hyperparam.npz'%method\n",
    "with open(fn_in, 'rb') as f:\n",
    "    data = pickle.load(f)\n",
    "tags = data['tags']\n",
    "metrics = data['metrics']\n",
    "loss_NP = metrics[:,0,:,0].T\n",
    "params = data['params']\n",
    "test_losses = data['test_losses']\n",
    "print('Minimum for AE FA: ', np.min(test_losses))\n",
    "minidx = np.argmin(test_losses)\n",
    "print(params[minidx][1])"
   ]
  },
  {
   "cell_type": "code",
   "execution_count": 14,
   "metadata": {},
   "outputs": [
    {
     "name": "stdout",
     "output_type": "stream",
     "text": [
      "Minimum for AE ADAM:  452.3138427734375\n",
      "0.0001411275857690097\n"
     ]
    }
   ],
   "source": [
    "method = 'adam'\n",
    "fn_in = './experiments/nodepert_ae5_%s/summary/3_autoencoder_correctbatch_hyperparam.npz'%method\n",
    "with open(fn_in, 'rb') as f:\n",
    "    data = pickle.load(f)\n",
    "tags = data['tags']\n",
    "metrics = data['metrics']\n",
    "loss_NP = metrics[:,0,:,0].T\n",
    "params = data['params']\n",
    "test_losses = data['test_losses']\n",
    "print('Minimum for AE ADAM: ', np.min(test_losses))\n",
    "minidx = np.argmin(test_losses)\n",
    "print(params[minidx][1])"
   ]
  },
  {
   "cell_type": "code",
   "execution_count": 15,
   "metadata": {},
   "outputs": [
    {
     "name": "stdout",
     "output_type": "stream",
     "text": [
      "Minimum for AE BP:  521.1770629882812\n",
      "0.0003727823218891601\n"
     ]
    }
   ],
   "source": [
    "method = 'bpauto'\n",
    "fn_in = './experiments/nodepert_ae5_%s/summary/3_autoencoder_correctbatch_hyperparam.npz'%method\n",
    "with open(fn_in, 'rb') as f:\n",
    "    data = pickle.load(f, encoding = 'latin1')\n",
    "tags = data['tags']\n",
    "metrics = data['metrics']\n",
    "loss_NP = metrics[:,0,:,0].T\n",
    "params = data['params']\n",
    "test_losses = data['test_losses']\n",
    "print('Minimum for AE BP: ', np.min(test_losses))\n",
    "minidx = np.argmin(test_losses)\n",
    "\n",
    "print(params[minidx][1])"
   ]
  },
  {
   "cell_type": "code",
   "execution_count": 45,
   "metadata": {},
   "outputs": [
    {
     "name": "stdout",
     "output_type": "stream",
     "text": [
      "Minimum for AE BP:  [598.77429199 781.56616211 750.87463379 749.77685547 608.30773926\n",
      " 863.48474121 939.04772949 579.44287109 550.06640625 636.5189209\n",
      " 561.09191895 773.91137695 732.37890625 674.87841797 687.86828613\n",
      " 700.50842285 609.13409424]\n",
      "[634.72650146 712.8223877  853.21697998 779.02661133 635.7588501\n",
      " 771.53411865 888.61853027 641.59777832 645.84124756 691.07086182\n",
      " 636.4574585  719.34869385 741.34863281 657.78887939 710.35687256\n",
      " 702.50323486 659.36895752   0.           0.           0.        ]\n",
      "[[598.77429199]\n",
      " [781.56616211]\n",
      " [750.87463379]\n",
      " [749.77685547]\n",
      " [608.30773926]\n",
      " [863.48474121]\n",
      " [939.04772949]\n",
      " [579.44287109]\n",
      " [550.06640625]\n",
      " [636.5189209 ]\n",
      " [561.09191895]\n",
      " [773.91137695]\n",
      " [732.37890625]\n",
      " [674.87841797]\n",
      " [687.86828613]\n",
      " [700.50842285]\n",
      " [609.13409424]\n",
      " [  0.        ]\n",
      " [  0.        ]\n",
      " [  0.        ]]\n",
      "Best learning rate: 0.00019942367232893114\n"
     ]
    }
   ],
   "source": [
    "method = 'matched_convparams'\n",
    "fn_in = './experiments/nodepert_ae5_%s/summary/3_autoencoder_correctbatch_hyperparam.npz'%method\n",
    "with open(fn_in, 'rb') as f:\n",
    "    data = pickle.load(f, encoding = 'latin1')\n",
    "tags = data['tags']\n",
    "metrics = data['metrics']\n",
    "loss_NP = metrics[:,0,:,0].T\n",
    "params = data['params']\n",
    "test_losses = data['test_losses']\n",
    "print('Minimum for AE BP: ', np.min(test_losses[0:17], axis = 1))\n",
    "minidx = np.argmin(test_losses)\n",
    "print(loss_NP[-1,:])\n",
    "print(test_losses)\n",
    "#Index 8 has the smallest loss...\n",
    "print('Best learning rate:', params[8][1])"
   ]
  },
  {
   "cell_type": "markdown",
   "metadata": {},
   "source": [
    "## Plot of losses"
   ]
  },
  {
   "cell_type": "code",
   "execution_count": 57,
   "metadata": {},
   "outputs": [
    {
     "data": {
      "image/png": "[encoded data removed]",
      "text/plain": [
       "<matplotlib.figure.Figure at 0x7fa252440be0>"
      ]
     },
     "metadata": {
      "needs_background": "light"
     },
     "output_type": "display_data"
    }
   ],
   "source": [
    "fig,axes = plt.subplots(1,1,figsize=(4,4))\n",
    "\n",
    "sns.tsplot(loss_BP, ax = axes, color='C0')\n",
    "sns.tsplot(loss_FA, ax = axes, color='C1')\n",
    "sns.tsplot(np.squeeze(loss_NP), ax = axes, color='C2')\n",
    "\n",
    "axes.legend(['backpropagation', 'feedback alignment', 'node perturbation'])\n",
    "#axes.set_yscale('log')\n",
    "axes.set_xlabel('iteration');\n",
    "#axes.set_ylim([450, 1200])\n",
    "axes.set_ylabel('loss')\n",
    "sns.despine(trim=True)\n",
    "plt.savefig('./figures/3_autoencoder_losses.pdf')"
   ]
  },
  {
   "cell_type": "code",
   "execution_count": null,
   "metadata": {
    "collapsed": true
   },
   "outputs": [],
   "source": []
  }
 ],
 "metadata": {
  "kernelspec": {
   "display_name": "Python [conda env:py34]",
   "language": "python",
   "name": "conda-env-py34-py"
  },
  "language_info": {
   "codemirror_mode": {
    "name": "ipython",
    "version": 3
   },
   "file_extension": ".py",
   "mimetype": "text/x-python",
   "name": "python",
   "nbconvert_exporter": "python",
   "pygments_lexer": "ipython3",
   "version": "3.6.6"
  }
 },
 "nbformat": 4,
 "nbformat_minor": 2
}
