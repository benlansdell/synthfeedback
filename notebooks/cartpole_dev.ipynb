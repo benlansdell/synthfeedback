{
 "cells": [
  {
   "cell_type": "code",
   "execution_count": 1,
   "metadata": {},
   "outputs": [
    {
     "name": "stdout",
     "output_type": "stream",
     "text": [
      "/home/lansdell/projects/synthfeedback\n"
     ]
    }
   ],
   "source": [
    "cd /home/lansdell/projects/synthfeedback"
   ]
  },
  {
   "cell_type": "code",
   "execution_count": 2,
   "metadata": {},
   "outputs": [
    {
     "name": "stdout",
     "output_type": "stream",
     "text": [
      "Populating the interactive namespace from numpy and matplotlib\n"
     ]
    }
   ],
   "source": [
    "%pylab inline\n",
    "import os\n",
    "os.environ[\"CUDA_VISIBLE_DEVICES\"]='0'\n",
    "import numpy as np\n",
    "import numpy.random as rand\n",
    "from numpy import random as rng\n",
    "import tensorflow as tf\n",
    "import matplotlib.pyplot as plt\n",
    "import pickle\n",
    "import argparse\n",
    "from utils.utils import tf_matmul_r, tf_matmul_l"
   ]
  },
  {
   "cell_type": "markdown",
   "metadata": {},
   "source": [
    "## Cartpole RNN"
   ]
  },
  {
   "cell_type": "code",
   "execution_count": 3,
   "metadata": {},
   "outputs": [
    {
     "name": "stdout",
     "output_type": "stream",
     "text": [
      "Using backprop\n",
      "For 20 epochs\n",
      "Learning rate: 0.001000\n",
      "Lambda learning rate: 0.000050\n",
      "Variance xi: 0.500000\n",
      "Saving results: 0\n"
     ]
    }
   ],
   "source": [
    "#method = args.method\n",
    "#save = bool(args.save)\n",
    "\n",
    "method = 'backprop'\n",
    "save = False\n",
    "\n",
    "anneal = True\n",
    "\n",
    "# Global config variables\n",
    "num_steps = 10 # number of truncated backprop steps ('n' in the discussion above)\n",
    "batch_size = 20\n",
    "in_dim = 4\n",
    "state_size = 50\n",
    "learning_rate = 1e-3\n",
    "alpha2 = 1\n",
    "activation = tf.tanh\n",
    "act_prime = lambda x: 1 - tf.multiply(x,x)\n",
    "\n",
    "#Node pert params\n",
    "lmbda = 5e-5\n",
    "var_xi = 0.5\n",
    "p_fire = 0.1 #prob of firing\n",
    "\n",
    "acclimatize = True\n",
    "\n",
    "grad_max = 10\n",
    "\n",
    "N_epochs = 20\n",
    "N_episodes = 800\n",
    "\n",
    "report_rate = 100\n",
    "fn_out = './experiments/cartpole_rnn_np/%s_learning_rate_%f_lmbda_%f_varxi_%f.npz'%(method, learning_rate, lmbda, var_xi)\n",
    "\n",
    "#Things to save with output\n",
    "params = {\n",
    "'num_steps': num_steps,\n",
    "'batch_size': batch_size,\n",
    "'in_dim': in_dim,\n",
    "'state_size': state_size,\n",
    "'learning_rate': learning_rate,\n",
    "'alpha2': alpha2,\n",
    "'lmbda': lmbda,\n",
    "'var_xi': var_xi,\n",
    "'p_fire': p_fire,\n",
    "'grad_max': grad_max,\n",
    "'N_epochs': N_epochs,\n",
    "'N_episodes': N_episodes,\n",
    "'acclimatize':acclimatize\n",
    "}\n",
    "\n",
    "#method = 'backprop'\n",
    "#method = 'feedbackalignment'\n",
    "#method = 'nodepert'\n",
    "#method = 'weightsym'\n",
    "\n",
    "print(\"Using %s\"%method)\n",
    "print(\"For %d epochs\"%N_epochs)\n",
    "print(\"Learning rate: %f\"%learning_rate)\n",
    "print(\"Lambda learning rate: %f\"%lmbda)\n",
    "print(\"Variance xi: %f\"%var_xi)\n",
    "print(\"Saving results: %d\"%save)"
   ]
  },
  {
   "cell_type": "code",
   "execution_count": 4,
   "metadata": {
    "collapsed": true
   },
   "outputs": [],
   "source": [
    "def rnn_cell(rnn_input, state, W, U):\n",
    "    ones0 = tf.ones([batch_size, 1], tf.float32)\n",
    "    state_p = tf.concat([state, ones0], 1)\n",
    "    return activation(tf.matmul(rnn_input, U) + tf.matmul(state_p, W))"
   ]
  },
  {
   "cell_type": "markdown",
   "metadata": {},
   "source": [
    "## Set up training procedure"
   ]
  },
  {
   "cell_type": "code",
   "execution_count": 5,
   "metadata": {
    "collapsed": true
   },
   "outputs": [],
   "source": [
    "def train_network(num_episodes, num_steps, state_size=state_size, verbose=True):\n",
    "    xs = np.zeros((N_epochs, num_episodes, num_steps, in_dim))\n",
    "    with tf.Session() as sess:\n",
    "        sess.run(tf.global_variables_initializer())\n",
    "        training_losses = []\n",
    "        alignments = []\n",
    "\n",
    "        for idx in range(N_epochs):\n",
    "            print(\"Epoch: %d\"%idx)\n",
    "            #if idx < 4 and acclimatize:\n",
    "            #    ts = train_step_B\n",
    "            #else:\n",
    "            ts = train_step\n",
    "            training_loss = 0\n",
    "            #training_x = np.zeros((batch_size, in_dim))\n",
    "            training_x = 2*rng.randn(batch_size, in_dim)\n",
    "            #training_x[:,1] = np.pi\n",
    "            training_state = np.zeros((batch_size, state_size))\n",
    "            for step in range(num_episodes):\n",
    "                tr_init_gradW = np.zeros((state_size+1, state_size))\n",
    "                tr_init_gradB = np.zeros((state_size, state_size))\n",
    "                tr_init_gradU = np.zeros((in_dim, state_size))\n",
    "                tr_loss, tr_losses, training_loss_, training_state, training_x, _, align, x_o = \\\n",
    "                    sess.run([loss, losses, total_loss, final_state, final_x, ts, aments, rnn_inputs], \\\n",
    "                                  feed_dict={init_state:training_state, init_x: training_x, \\\n",
    "                                  init_gradU: tr_init_gradU, init_gradW: tr_init_gradW, \\\n",
    "                                  init_gradB: tr_init_gradB})\n",
    "                #print(np.array(x_o).shape)\n",
    "                xs[idx, step, :, :] = np.array(x_o)[:,0,:]\n",
    "                training_loss += training_loss_\n",
    "                if step % report_rate == 0 and step > 0:\n",
    "                    if verbose:\n",
    "                        print(\"Average loss at step %d for last %d steps: %f\"%(step, report_rate, \\\n",
    "                                                                               training_loss/report_rate))\n",
    "                    training_losses.append(training_loss/report_rate)\n",
    "                    alignments.append(align)\n",
    "                    training_loss = 0\n",
    "\n",
    "    return training_losses, step, alignments, xs"
   ]
  },
  {
   "cell_type": "code",
   "execution_count": 6,
   "metadata": {
    "collapsed": true
   },
   "outputs": [],
   "source": [
    "##############\n",
    "## BACKPROP ##\n",
    "##############\n",
    "\n",
    "def backprop():\n",
    "\n",
    "    grad_U = init_gradU\n",
    "    grad_W = init_gradW\n",
    "    grad_B = init_gradB\n",
    "    alnments = []\n",
    "    for i in range(num_steps):\n",
    "        for j in range(i+1)[::-1]:\n",
    "            if j == i:\n",
    "                delta = tf.multiply(tf.matmul(delta0s[i][:,None],tf.transpose(V[0:state_size,:])), \\\n",
    "                                    act_prime(rnn_outputs[j]))\n",
    "            else:\n",
    "                delta = tf.multiply(tf.matmul(delta, tf.transpose(W[0:state_size,:])), act_prime(rnn_outputs[j]))\n",
    "            grad_U = grad_U + tf.matmul(tf.transpose(rnn_inputs[j]), delta)\n",
    "            if j > 0:\n",
    "                grad_W = grad_W + tf.matmul(tf.transpose(tf.concat([rnn_outputs[j-1], ones0],1)), delta)\n",
    "\n",
    "    grad_V = tf.gradients(xs=V, ys=total_loss)[0]\n",
    "    grad_W = tf.gradients(xs=W, ys=total_loss)[0]\n",
    "    grad_U = tf.gradients(xs=U, ys=total_loss)[0]\n",
    "\n",
    "    return grad_U, grad_W, grad_B, grad_V, alnments"
   ]
  },
  {
   "cell_type": "code",
   "execution_count": 7,
   "metadata": {
    "collapsed": true
   },
   "outputs": [],
   "source": [
    "if method == 'backprop':\n",
    "    trainer = backprop\n",
    "elif method == 'feedbackalignment':\n",
    "    trainer = feedbackalignment\n",
    "elif method == 'nodepert':\n",
    "    trainer = nodepert\n",
    "elif method == 'weightsym':\n",
    "    trainer = weightsym\n",
    "else:\n",
    "    raise NotImplementedError\n",
    "\n",
    "init_x = tf.zeros([batch_size, in_dim], dtype=np.float32)\n",
    "init_state = tf.zeros([batch_size, state_size], dtype=np.float32)\n",
    "init_gradW = tf.zeros([state_size+1, state_size], dtype=np.float32)\n",
    "init_gradB = tf.zeros([state_size, state_size], dtype=np.float32)\n",
    "init_gradU = tf.zeros([in_dim, state_size], dtype=np.float32)\n",
    "alignment = tf.zeros([in_dim, state_size], dtype=np.float32)\n",
    "\n",
    "ones0 = tf.ones([batch_size, 1], tf.float32)\n",
    "#U = tf.get_variable('U', [in_dim, state_size])\n",
    "#W = tf.get_variable('W', [state_size+1, state_size])\n",
    "#V = tf.get_variable('V', [state_size+1, 1])\n",
    "U = tf.Variable(rng.randn(in_dim, state_size)*alpha2, name=\"input_weights\", dtype=tf.float32)\n",
    "W = tf.Variable(rng.randn(state_size+1, state_size)*alpha2, name=\"feedforward_weights\", dtype=tf.float32)\n",
    "#W = tf.Variable(np.zeros((state_size+1, state_size))*alpha2, name=\"feedforward_weights\", dtype=tf.float32)\n",
    "B = tf.Variable(rng.randn(state_size, state_size)*alpha2, name=\"feedback_weights\", dtype=tf.float32)\n",
    "V = tf.Variable(rng.randn(state_size+1, 1)*alpha2, name=\"output_weights\", dtype=tf.float32)"
   ]
  },
  {
   "cell_type": "markdown",
   "metadata": {},
   "source": [
    "## Define the pole task and dynamics here"
   ]
  },
  {
   "cell_type": "code",
   "execution_count": 8,
   "metadata": {},
   "outputs": [],
   "source": [
    "x = init_x\n",
    "state = init_state\n",
    "state_p = init_state\n",
    "rnn_inputs = []\n",
    "rnn_outputs = []\n",
    "rnn_pert_outputs = []\n",
    "noise_outputs = []\n",
    "heights = []\n",
    "hs = []\n",
    "\n",
    "#Cart pole dynamics simulated for num_steps \n",
    "m = 1.1\n",
    "mp = 0.1\n",
    "g = 9.8\n",
    "l = 0.5\n",
    "tau = 0.02\n",
    "Fmax = 10\n",
    "max_h = 3\n",
    "gamma = 10\n",
    "\n",
    "#Equations of motion:\n",
    "#theta_dd = (m*g*sin(theta) - cos(theta)*(F + mp*l*theta_d*theta_d*sin(theta)))/((4/3)*m*l - mp*l*cos(theta)*cos(theta))\n",
    "#theta_d += tau*theta_dd\n",
    "#theta += tau*theta\n",
    "#h_dd = (F + mp*l*(theta_d*theta_d*sin(theta)-theta_dd*cos(theta)))/m\n",
    "#h_d += tau*h_dd\n",
    "#h += tau*h_d\n",
    "\n",
    "for idx in range(num_steps):\n",
    "    mask = tf.random_uniform(state.shape) < p_fire\n",
    "    xi = tf.multiply(tf.random_normal(state.shape)*var_xi, tf.to_float(mask))\n",
    "    phi = tf.random_normal((batch_size,1))*Fmax/5\n",
    "    #Compute new state\n",
    "    state = rnn_cell(x, state, W, U)\n",
    "    state_p = rnn_cell(x, state_p, W, U) + xi\n",
    "    #Compute action\n",
    "    F = tf.squeeze(Fmax*activation(tf.matmul(tf.concat([state, ones0], 1), V)) + phi)\n",
    "    #Compute new x\n",
    "    theta_dd = (m*g*tf.sin(x[:,1]) - tf.cos(x[:,1])*(F + mp*l*x[:,0]*x[:,0]*tf.sin(x[:,1])))/((4/3)*m*l -\\\n",
    "                mp*l*tf.cos(x[:,1])*tf.cos(x[:,1]))\n",
    "    h_dd = (F + mp*l*(x[:,0]*x[:,0]*tf.sin(x[:,1])-theta_dd*tf.cos(x[:,1])))/m\n",
    "    x_list = []\n",
    "    x_list.append(x[:,0] + tau*theta_dd)   #x0 = theta_dot\n",
    "    x_list.append(x[:,1] + tau*x[:,0])     #x1 = theta\n",
    "    x_list.append(x[:,2] + tau*h_dd)       #x2 = h_dot\n",
    "    #x_list.append(x[:,3] + tau*x[:,2])     #x3 = h\n",
    "    x_list.append(tf.clip_by_value(x[:,3] + tau*x[:,2], -4*max_h, 4*max_h))     #x3 = h\n",
    "    x = tf.stack(x_list, axis = 1)\n",
    "    height = tf.cos(x[:,1])\n",
    "    heights.append(height)\n",
    "    hs.append(x[:,3])\n",
    "    rnn_inputs.append(x)\n",
    "    rnn_outputs.append(state)\n",
    "    rnn_pert_outputs.append(state_p)\n",
    "    noise_outputs.append(xi)\n",
    "\n",
    "final_x = rnn_inputs[-1]\n",
    "final_state = rnn_outputs[-1]\n",
    "\n",
    "#Define loss function....\n",
    "#loss = \n",
    "\n",
    "loss = [gamma*tf.pow(height+1, 2)/2 + tf.pow(tf.maximum(0.0, tf.abs(h) - max_h),2)/2 for h, height in zip(hs, heights)]\n",
    "losses = [gamma*tf.reduce_sum(tf.pow(height+1, 2))/2 + tf.pow(tf.maximum(0.0, tf.abs(h) - max_h),2)/2 for h, height in zip(hs, heights)]\n",
    "total_loss = tf.reduce_mean(losses)\n",
    "\n",
    "#Perturbed outputs and loss\n",
    "loss_pert = [gamma*tf.pow(height+1, 2)/2 + tf.pow(tf.maximum(0.0, tf.abs(h) - max_h),2)/2 for h, height in zip(hs, heights)]\n",
    "losses_pert = [gamma*tf.reduce_sum(tf.pow(height+1, 2))/2 + tf.pow(tf.maximum(0.0, tf.abs(h) - max_h),2)/2 for h, height in zip(hs, heights)]\n",
    "total_loss_pert = tf.reduce_mean(losses_pert)\n",
    "\n",
    "e0s = [(height+1) for height in heights]\n",
    "delta0s = e0s"
   ]
  },
  {
   "cell_type": "markdown",
   "metadata": {},
   "source": [
    "## Run the network"
   ]
  },
  {
   "cell_type": "code",
   "execution_count": 9,
   "metadata": {
    "collapsed": true
   },
   "outputs": [],
   "source": [
    "grad_U, grad_W, grad_B, grad_V, aments = trainer()\n",
    "\n",
    "new_B = B.assign(B - lmbda*tf.clip_by_value(grad_B, -grad_max, grad_max, name=None))\n",
    "new_U = U.assign(U - learning_rate*grad_U)            \n",
    "new_W = W.assign(W - learning_rate*grad_W)           \n",
    "new_V = V.assign(V - learning_rate*grad_V)          \n",
    "\n",
    "train_step_B = [new_B]\n",
    "train_step = [new_U, new_W, new_V, new_B]\n",
    "\n",
    "all_losses = []\n",
    "all_alignments = []"
   ]
  },
  {
   "cell_type": "code",
   "execution_count": 10,
   "metadata": {
    "scrolled": false
   },
   "outputs": [
    {
     "name": "stdout",
     "output_type": "stream",
     "text": [
      "Epoch: 0\n",
      "Average loss at step 100 for last 100 steps: 189.192117\n",
      "Average loss at step 200 for last 100 steps: 192.886059\n",
      "Average loss at step 300 for last 100 steps: 186.783039\n",
      "Average loss at step 400 for last 100 steps: 185.855599\n",
      "Average loss at step 500 for last 100 steps: 185.096257\n",
      "Average loss at step 600 for last 100 steps: 185.013764\n",
      "Average loss at step 700 for last 100 steps: 184.719404\n",
      "Epoch: 1\n",
      "Average loss at step 100 for last 100 steps: 173.621514\n",
      "Average loss at step 200 for last 100 steps: 172.846325\n",
      "Average loss at step 300 for last 100 steps: 171.231504\n",
      "Average loss at step 400 for last 100 steps: 170.441210\n",
      "Average loss at step 500 for last 100 steps: 170.132694\n",
      "Average loss at step 600 for last 100 steps: 169.748513\n",
      "Average loss at step 700 for last 100 steps: 169.800804\n",
      "Epoch: 2\n",
      "Average loss at step 100 for last 100 steps: 167.749193\n",
      "Average loss at step 200 for last 100 steps: 163.277175\n",
      "Average loss at step 300 for last 100 steps: 163.909642\n",
      "Average loss at step 400 for last 100 steps: 163.082471\n",
      "Average loss at step 500 for last 100 steps: 162.618664\n",
      "Average loss at step 600 for last 100 steps: 162.172723\n",
      "Average loss at step 700 for last 100 steps: 162.160028\n",
      "Epoch: 3\n",
      "Average loss at step 100 for last 100 steps: 101.768262\n",
      "Average loss at step 200 for last 100 steps: 74.248931\n",
      "Average loss at step 300 for last 100 steps: 71.827008\n",
      "Average loss at step 400 for last 100 steps: 71.330514\n",
      "Average loss at step 500 for last 100 steps: 71.093603\n",
      "Average loss at step 600 for last 100 steps: 71.015604\n",
      "Average loss at step 700 for last 100 steps: 71.006960\n",
      "Epoch: 4\n",
      "Average loss at step 100 for last 100 steps: 64.153420\n",
      "Average loss at step 200 for last 100 steps: 63.954391\n",
      "Average loss at step 300 for last 100 steps: 63.564855\n",
      "Average loss at step 400 for last 100 steps: 63.478017\n",
      "Average loss at step 500 for last 100 steps: 63.375023\n",
      "Average loss at step 600 for last 100 steps: 63.284544\n",
      "Average loss at step 700 for last 100 steps: 63.340303\n",
      "Epoch: 5\n",
      "Average loss at step 100 for last 100 steps: 60.287049\n",
      "Average loss at step 200 for last 100 steps: 56.008293\n",
      "Average loss at step 300 for last 100 steps: 55.857655\n",
      "Average loss at step 400 for last 100 steps: 55.789601\n",
      "Average loss at step 500 for last 100 steps: 55.734971\n",
      "Average loss at step 600 for last 100 steps: 55.703439\n",
      "Average loss at step 700 for last 100 steps: 55.718232\n",
      "Epoch: 6\n",
      "Average loss at step 100 for last 100 steps: 59.250974\n",
      "Average loss at step 200 for last 100 steps: 48.313025\n",
      "Average loss at step 300 for last 100 steps: 48.218985\n",
      "Average loss at step 400 for last 100 steps: 48.152604\n",
      "Average loss at step 500 for last 100 steps: 48.087086\n",
      "Average loss at step 600 for last 100 steps: 48.107011\n",
      "Average loss at step 700 for last 100 steps: 48.109417\n",
      "Epoch: 7\n",
      "Average loss at step 100 for last 100 steps: 90.290079\n",
      "Average loss at step 200 for last 100 steps: 79.590263\n",
      "Average loss at step 300 for last 100 steps: 79.089671\n",
      "Average loss at step 400 for last 100 steps: 78.783266\n",
      "Average loss at step 500 for last 100 steps: 78.604286\n",
      "Average loss at step 600 for last 100 steps: 78.635878\n",
      "Average loss at step 700 for last 100 steps: 78.444832\n",
      "Epoch: 8\n",
      "Average loss at step 100 for last 100 steps: 64.391546\n",
      "Average loss at step 200 for last 100 steps: 56.066939\n",
      "Average loss at step 300 for last 100 steps: 55.869191\n",
      "Average loss at step 400 for last 100 steps: 55.766853\n",
      "Average loss at step 500 for last 100 steps: 55.728940\n",
      "Average loss at step 600 for last 100 steps: 55.722102\n",
      "Average loss at step 700 for last 100 steps: 55.701421\n",
      "Epoch: 9\n",
      "Average loss at step 100 for last 100 steps: 60.455085\n",
      "Average loss at step 200 for last 100 steps: 55.970548\n",
      "Average loss at step 300 for last 100 steps: 55.841672\n",
      "Average loss at step 400 for last 100 steps: 55.747597\n",
      "Average loss at step 500 for last 100 steps: 55.677939\n",
      "Average loss at step 600 for last 100 steps: 55.732356\n",
      "Average loss at step 700 for last 100 steps: 55.704537\n",
      "Epoch: 10\n",
      "Average loss at step 100 for last 100 steps: 68.939145\n",
      "Average loss at step 200 for last 100 steps: 63.983042\n",
      "Average loss at step 300 for last 100 steps: 63.670896\n",
      "Average loss at step 400 for last 100 steps: 63.522857\n",
      "Average loss at step 500 for last 100 steps: 63.346223\n",
      "Average loss at step 600 for last 100 steps: 63.340466\n",
      "Average loss at step 700 for last 100 steps: 63.274377\n",
      "Epoch: 11\n",
      "Average loss at step 100 for last 100 steps: 62.384625\n",
      "Average loss at step 200 for last 100 steps: 56.118003\n",
      "Average loss at step 300 for last 100 steps: 55.911714\n",
      "Average loss at step 400 for last 100 steps: 55.841978\n",
      "Average loss at step 500 for last 100 steps: 55.751448\n",
      "Average loss at step 600 for last 100 steps: 55.676550\n",
      "Average loss at step 700 for last 100 steps: 55.747947\n",
      "Epoch: 12\n",
      "Average loss at step 100 for last 100 steps: 46.927546\n",
      "Average loss at step 200 for last 100 steps: 40.783540\n",
      "Average loss at step 300 for last 100 steps: 40.726353\n",
      "Average loss at step 400 for last 100 steps: 40.602671\n",
      "Average loss at step 500 for last 100 steps: 40.545887\n",
      "Average loss at step 600 for last 100 steps: 40.522722\n",
      "Average loss at step 700 for last 100 steps: 40.513578\n",
      "Epoch: 13\n",
      "Average loss at step 100 for last 100 steps: 68.608034\n",
      "Average loss at step 200 for last 100 steps: 63.872357\n",
      "Average loss at step 300 for last 100 steps: 63.543809\n",
      "Average loss at step 400 for last 100 steps: 63.420968\n",
      "Average loss at step 500 for last 100 steps: 63.416665\n",
      "Average loss at step 600 for last 100 steps: 63.303329\n",
      "Average loss at step 700 for last 100 steps: 63.259605\n",
      "Epoch: 14\n",
      "Average loss at step 100 for last 100 steps: 55.663255\n",
      "Average loss at step 200 for last 100 steps: 56.124098\n",
      "Average loss at step 300 for last 100 steps: 55.914416\n",
      "Average loss at step 400 for last 100 steps: 55.855031\n",
      "Average loss at step 500 for last 100 steps: 55.715395\n",
      "Average loss at step 600 for last 100 steps: 55.688951\n",
      "Average loss at step 700 for last 100 steps: 55.701356\n",
      "Epoch: 15\n",
      "Average loss at step 100 for last 100 steps: 55.134470\n",
      "Average loss at step 200 for last 100 steps: 56.074144\n",
      "Average loss at step 300 for last 100 steps: 55.906681\n",
      "Average loss at step 400 for last 100 steps: 55.832207\n",
      "Average loss at step 500 for last 100 steps: 55.699318\n",
      "Average loss at step 600 for last 100 steps: 55.762456\n",
      "Average loss at step 700 for last 100 steps: 55.711040\n",
      "Epoch: 16\n",
      "Average loss at step 100 for last 100 steps: 58.498866\n",
      "Average loss at step 200 for last 100 steps: 55.985524\n",
      "Average loss at step 300 for last 100 steps: 55.858239\n",
      "Average loss at step 400 for last 100 steps: 55.802421\n",
      "Average loss at step 500 for last 100 steps: 55.689883\n",
      "Average loss at step 600 for last 100 steps: 55.689843\n",
      "Average loss at step 700 for last 100 steps: 55.674431\n",
      "Epoch: 17\n",
      "Average loss at step 100 for last 100 steps: 60.010299\n",
      "Average loss at step 200 for last 100 steps: 56.203834\n",
      "Average loss at step 300 for last 100 steps: 55.920784\n",
      "Average loss at step 400 for last 100 steps: 55.828855\n",
      "Average loss at step 500 for last 100 steps: 55.764952\n",
      "Average loss at step 600 for last 100 steps: 55.768385\n",
      "Average loss at step 700 for last 100 steps: 55.687174\n",
      "Epoch: 18\n",
      "Average loss at step 100 for last 100 steps: 56.845679\n",
      "Average loss at step 200 for last 100 steps: 56.130620\n",
      "Average loss at step 300 for last 100 steps: 55.860891\n",
      "Average loss at step 400 for last 100 steps: 55.859211\n",
      "Average loss at step 500 for last 100 steps: 55.774063\n",
      "Average loss at step 600 for last 100 steps: 55.708047\n",
      "Average loss at step 700 for last 100 steps: 55.658961\n",
      "Epoch: 19\n",
      "Average loss at step 100 for last 100 steps: 52.253843\n",
      "Average loss at step 200 for last 100 steps: 48.213914\n",
      "Average loss at step 300 for last 100 steps: 48.234356\n",
      "Average loss at step 400 for last 100 steps: 48.152679\n",
      "Average loss at step 500 for last 100 steps: 48.124811\n",
      "Average loss at step 600 for last 100 steps: 48.112824\n",
      "Average loss at step 700 for last 100 steps: 48.136554\n"
     ]
    }
   ],
   "source": [
    "training_losses, n_in_epoch, alignments, xs = train_network(N_episodes, num_steps)\n",
    "all_losses.append(training_losses)\n",
    "all_alignments.append(alignments)"
   ]
  },
  {
   "cell_type": "markdown",
   "metadata": {
    "collapsed": true
   },
   "source": [
    "## Make some plots to debug"
   ]
  },
  {
   "cell_type": "code",
   "execution_count": 11,
   "metadata": {},
   "outputs": [
    {
     "data": {
      "text/plain": [
       "(20, 800, 10, 4)"
      ]
     },
     "execution_count": 11,
     "metadata": {},
     "output_type": "execute_result"
    }
   ],
   "source": [
    "xs.shape"
   ]
  },
  {
   "cell_type": "code",
   "execution_count": 12,
   "metadata": {
    "collapsed": true
   },
   "outputs": [],
   "source": [
    "theta_d = xs[:,:,:,0].reshape(-1)\n",
    "theta = xs[:,:,:,1].reshape(-1)\n",
    "h_d = xs[:,:,:,2].reshape(-1)\n",
    "h = xs[:,:,:,3].reshape(-1)"
   ]
  },
  {
   "cell_type": "code",
   "execution_count": 13,
   "metadata": {},
   "outputs": [
    {
     "data": {
      "text/plain": [
       "array([-1.31080043, -1.30563605, -1.30751538, ...,  3.11534858,\n",
       "        3.11405158,  3.11264992])"
      ]
     },
     "execution_count": 13,
     "metadata": {},
     "output_type": "execute_result"
    }
   ],
   "source": [
    "theta.reshape(-1)"
   ]
  },
  {
   "cell_type": "code",
   "execution_count": 14,
   "metadata": {},
   "outputs": [
    {
     "data": {
      "text/plain": [
       "<matplotlib.lines.Line2D at 0x7f2d94090908>"
      ]
     },
     "execution_count": 14,
     "metadata": {},
     "output_type": "execute_result"
    },
    {
     "data": {
      "image/png": "[encoded data removed]",
      "text/plain": [
       "<Figure size 432x288 with 1 Axes>"
      ]
     },
     "metadata": {},
     "output_type": "display_data"
    }
   ],
   "source": [
    "plt.plot(theta[60000:])\n",
    "plt.axhline(y = np.pi)\n",
    "plt.axhline(y = -np.pi)"
   ]
  },
  {
   "cell_type": "code",
   "execution_count": 15,
   "metadata": {},
   "outputs": [
    {
     "data": {
      "text/plain": [
       "[<matplotlib.lines.Line2D at 0x7f2d940127b8>]"
      ]
     },
     "execution_count": 15,
     "metadata": {},
     "output_type": "execute_result"
    },
    {
     "data": {
      "image/png": "[encoded data removed]",
      "text/plain": [
       "<Figure size 432x288 with 1 Axes>"
      ]
     },
     "metadata": {},
     "output_type": "display_data"
    }
   ],
   "source": [
    "plt.plot(h)"
   ]
  },
  {
   "cell_type": "code",
   "execution_count": 16,
   "metadata": {},
   "outputs": [
    {
     "data": {
      "text/plain": [
       "[<matplotlib.lines.Line2D at 0x7f2d8c7ec4e0>]"
      ]
     },
     "execution_count": 16,
     "metadata": {},
     "output_type": "execute_result"
    },
    {
     "data": {
      "image/png": "[encoded data removed]",
      "text/plain": [
       "<Figure size 432x288 with 1 Axes>"
      ]
     },
     "metadata": {},
     "output_type": "display_data"
    }
   ],
   "source": [
    "plt.plot(theta_d)"
   ]
  },
  {
   "cell_type": "code",
   "execution_count": null,
   "metadata": {
    "collapsed": true
   },
   "outputs": [],
   "source": []
  }
 ],
 "metadata": {
  "kernelspec": {
   "display_name": "Python [conda env:py34]",
   "language": "python",
   "name": "conda-env-py34-py"
  },
  "language_info": {
   "codemirror_mode": {
    "name": "ipython",
    "version": 3
   },
   "file_extension": ".py",
   "mimetype": "text/x-python",
   "name": "python",
   "nbconvert_exporter": "python",
   "pygments_lexer": "ipython3",
   "version": "3.6.6"
  }
 },
 "nbformat": 4,
 "nbformat_minor": 2
}
