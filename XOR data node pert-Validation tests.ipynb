{
 "cells": [
  {
   "cell_type": "code",
   "execution_count": 1,
   "metadata": {},
   "outputs": [
    {
     "name": "stdout",
     "output_type": "stream",
     "text": [
      "Populating the interactive namespace from numpy and matplotlib\n"
     ]
    }
   ],
   "source": [
    "%pylab inline\n",
    "import os\n",
    "os.environ[\"CUDA_VISIBLE_DEVICES\"]=''\n",
    "\n",
    "import tensorflow as tf\n",
    "import numpy as np\n",
    "import numpy.random as rng\n",
    "import numpy as np\n",
    "import matplotlib.pyplot as plt\n",
    "import random\n",
    "import operator\n",
    "from utils.utils import tf_matmul_r, tf_matmul_l, tf_eigvecs, tf_eigvals\n",
    "from pylab import *\n",
    "import itertools\n",
    "\n"
   ]
  },
  {
   "cell_type": "code",
   "execution_count": 2,
   "metadata": {
    "collapsed": true
   },
   "outputs": [],
   "source": [
    "# inshape=30\n",
    "# hidden=20\n",
    "# outshape=10\n",
    "batch_size=50\n",
    "# T = rng.randn(outshape, inshape)\n",
    "def traindata(batch_size):\n",
    "    train_x=np.zeros((batch_size,2))\n",
    "    train_y=np.zeros((batch_size))\n",
    "    for i in range(batch_size):\n",
    "        inp=np.random.randint(0,2,size=[1,2])\n",
    "        output=operator.xor(inp[0,0],inp[0,1])\n",
    "        train_x[i,:]=inp\n",
    "        train_y[i]=output\n",
    "    return (train_x, train_y)"
   ]
  },
  {
   "cell_type": "code",
   "execution_count": 3,
   "metadata": {
    "collapsed": true
   },
   "outputs": [],
   "source": [
    "#p = self.config.state_size[0]\n",
    "p=2# inshape \n",
    "m =10# hiddenshap\n",
    "j = 1#outshpae\n",
    "#n = 10\n",
    "var_xi = 0.01\n",
    "# learning_rate=0\n",
    "# lmda_learning_rate=1e-5\n",
    "#lmda_learning_rate=0\n",
    "\n",
    "#Training data inputs\n",
    "x=tf.placeholder(tf.float32,[None,p], name = 'x')\n",
    "y=tf.placeholder(tf.float32,[None,j], name = 'y')\n",
    "learning_rate=tf.placeholder(tf.float32,[None],name='learning_rate')\n",
    "lmda_learning_rate=tf.placeholder(tf.float32,[None],name='lmda_learning_rate')\n",
    "\n",
    "#Scale weight initialization\n",
    "alpha0 = np.sqrt(2.0/p)\n",
    "alpha1 = np.sqrt(2.0/m)\n",
    "alpha2 = np.sqrt(2.0/j)\n",
    "alpha3 = 1\n",
    "\n",
    "A = tf.Variable(rng.randn(p+1,m)*alpha0, name=\"hidden_weights\", dtype=tf.float32)\n",
    "W = tf.Variable(rng.randn(m+1,j)*alpha1, name=\"output_weights\", dtype=tf.float32)\n",
    "B = tf.Variable(rng.randn(m+1,j)*alpha2, name=\"feedback_weights\", dtype=tf.float32)\n",
    "\n",
    "# network architecture with ones added for bias terms\n",
    "e0 = tf.ones([tf.shape(x)[0], 1], tf.float32)\n",
    "e1 = tf.ones([tf.shape(x)[0], 1], tf.float32)\n",
    "x_aug = tf.concat([x, e0], 1)\n",
    "h = tf.sigmoid(tf.matmul(x_aug, A))\n",
    "#Make some noise\n",
    "h_aug = tf.concat([h, e1], 1)\n",
    "xi = tf.random_normal(shape=tf.shape(h_aug), mean=0.0, stddev=var_xi, dtype=tf.float32)\n",
    "h_tilde = h_aug + xi\n",
    "#Add noise to hidden layer\n",
    "y_p = tf.matmul(h_tilde, W)\n",
    "y_p_0 = tf.matmul(h_aug, W)\n",
    "\n",
    "trainable = [A, W, B]\n"
   ]
  },
  {
   "cell_type": "code",
   "execution_count": 4,
   "metadata": {
    "collapsed": true
   },
   "outputs": [],
   "source": [
    "#mean squared error\n",
    "loss = tf.reduce_sum(tf.pow(y_p-y, 2))/2\n",
    "loss_0 = tf.reduce_sum(tf.pow(y_p_0-y, 2))/2\n",
    "e = (y_p - y)\n",
    "h_prime = tf.multiply(h_tilde, 1-h_tilde)[:,0:m]\n",
    "\n",
    "#Feedback data for saving\n",
    "#Only take first item in epoch\n",
    "delta_bp = tf.matmul(e, tf.transpose(W[0:m,:]))[0,:]\n",
    "delta_fa = tf.matmul(e, tf.transpose(B[0:m,:]))[0,:]\n",
    "norm_W = tf.norm(W)\n",
    "norm_B = tf.norm(B)\n",
    "error_FA = tf.norm(delta_bp - delta_fa)\n",
    "alignment = tf.reduce_sum(tf.multiply(delta_fa,delta_bp))/tf.norm(delta_fa)/tf.norm(delta_bp)\n",
    "norm_diff = tf.norm(W - B)\n",
    "eigs = tf_eigvals(tf.matmul(tf.transpose(B), W))\n",
    "\n",
    "#Compute updates for W and A (based on B)\n",
    "lmda = tf.matmul(e, tf.transpose(B[0:m,:]))\n",
    "grad_W = tf.gradients(xs=W, ys=loss)[0]\n",
    "grad_A = tf.matmul(tf.transpose(x_aug), tf.multiply(h_prime, lmda))\n",
    "grad_B = tf.matmul(tf.matmul(B, tf.transpose(e)) - tf.transpose(xi)*(loss - loss_0)/var_xi, e)\n",
    "\n",
    "new_W = W.assign(W - learning_rate*grad_W)\n",
    "new_A = A.assign(A - learning_rate*grad_A)            \n",
    "new_B = B.assign(B - lmda_learning_rate*grad_B)\n",
    "train_step = [new_W, new_A, new_B]\n",
    "\n",
    "\n",
    "# correct_prediction = tf.equal(tf.argmax(y_p, 1), tf.argmax(y, 1))\n",
    "# accuracy = tf.reduce_mean(tf.cast(correct_prediction, tf.float32))\n",
    "\n",
    "# #Also need to add eigenvector stuff\n",
    "# training_metrics = [alignment, norm_W, norm_B, error_FA, eigs[0]]"
   ]
  },
  {
   "cell_type": "code",
   "execution_count": 5,
   "metadata": {},
   "outputs": [],
   "source": [
    "# # eta_1=np.zeros(7)\n",
    "# eta_1[1::]=np.logspace(-3,-6,6)\n",
    "# eta_1"
   ]
  },
  {
   "cell_type": "code",
   "execution_count": 6,
   "metadata": {
    "scrolled": false
   },
   "outputs": [
    {
     "name": "stdout",
     "output_type": "stream",
     "text": [
      "Present combo: 1\n",
      "Present learning rate: 0.0\n",
      "Present lmda learning rate: 0.0\n",
      "Present combo: 2\n",
      "Present learning rate: 0.0\n",
      "Present lmda learning rate: 1e-06\n"
     ]
    },
    {
     "ename": "KeyboardInterrupt",
     "evalue": "",
     "output_type": "error",
     "traceback": [
      "\u001b[0;31m---------------------------------------------------------------------------\u001b[0m",
      "\u001b[0;31mKeyboardInterrupt\u001b[0m                         Traceback (most recent call last)",
      "\u001b[0;32m<ipython-input-6-872819b197d1>\u001b[0m in \u001b[0;36m<module>\u001b[0;34m()\u001b[0m\n\u001b[1;32m     30\u001b[0m         \u001b[0mflag\u001b[0m\u001b[0;34m=\u001b[0m\u001b[0;36m0\u001b[0m\u001b[0;34m\u001b[0m\u001b[0m\n\u001b[1;32m     31\u001b[0m         \u001b[0;32mfor\u001b[0m \u001b[0midx\u001b[0m \u001b[0;32min\u001b[0m \u001b[0mrange\u001b[0m\u001b[0;34m(\u001b[0m\u001b[0miteration\u001b[0m\u001b[0;34m)\u001b[0m\u001b[0;34m:\u001b[0m\u001b[0;34m\u001b[0m\u001b[0m\n\u001b[0;32m---> 32\u001b[0;31m             \u001b[0;34m(\u001b[0m\u001b[0mtrain_x\u001b[0m\u001b[0;34m,\u001b[0m \u001b[0mtrain_y\u001b[0m\u001b[0;34m)\u001b[0m \u001b[0;34m=\u001b[0m \u001b[0mtraindata\u001b[0m\u001b[0;34m(\u001b[0m\u001b[0mbatch_size\u001b[0m\u001b[0;34m)\u001b[0m\u001b[0;34m\u001b[0m\u001b[0m\n\u001b[0m\u001b[1;32m     33\u001b[0m             \u001b[0mtrain_x\u001b[0m\u001b[0;34m=\u001b[0m\u001b[0mnp\u001b[0m\u001b[0;34m.\u001b[0m\u001b[0mfloat32\u001b[0m\u001b[0;34m(\u001b[0m\u001b[0mtrain_x\u001b[0m\u001b[0;34m)\u001b[0m\u001b[0;34m\u001b[0m\u001b[0m\n\u001b[1;32m     34\u001b[0m             \u001b[0mtrain_y\u001b[0m\u001b[0;34m=\u001b[0m\u001b[0;34m(\u001b[0m\u001b[0mnp\u001b[0m\u001b[0;34m.\u001b[0m\u001b[0mfloat32\u001b[0m\u001b[0;34m(\u001b[0m\u001b[0mtrain_y\u001b[0m\u001b[0;34m)\u001b[0m\u001b[0;34m)\u001b[0m\u001b[0;34m\u001b[0m\u001b[0m\n",
      "\u001b[0;32m<ipython-input-2-18b37ffeb189>\u001b[0m in \u001b[0;36mtraindata\u001b[0;34m(batch_size)\u001b[0m\n\u001b[1;32m      8\u001b[0m     \u001b[0mtrain_y\u001b[0m\u001b[0;34m=\u001b[0m\u001b[0mnp\u001b[0m\u001b[0;34m.\u001b[0m\u001b[0mzeros\u001b[0m\u001b[0;34m(\u001b[0m\u001b[0;34m(\u001b[0m\u001b[0mbatch_size\u001b[0m\u001b[0;34m)\u001b[0m\u001b[0;34m)\u001b[0m\u001b[0;34m\u001b[0m\u001b[0m\n\u001b[1;32m      9\u001b[0m     \u001b[0;32mfor\u001b[0m \u001b[0mi\u001b[0m \u001b[0;32min\u001b[0m \u001b[0mrange\u001b[0m\u001b[0;34m(\u001b[0m\u001b[0mbatch_size\u001b[0m\u001b[0;34m)\u001b[0m\u001b[0;34m:\u001b[0m\u001b[0;34m\u001b[0m\u001b[0m\n\u001b[0;32m---> 10\u001b[0;31m         \u001b[0minp\u001b[0m\u001b[0;34m=\u001b[0m\u001b[0mnp\u001b[0m\u001b[0;34m.\u001b[0m\u001b[0mrandom\u001b[0m\u001b[0;34m.\u001b[0m\u001b[0mrandint\u001b[0m\u001b[0;34m(\u001b[0m\u001b[0;36m0\u001b[0m\u001b[0;34m,\u001b[0m\u001b[0;36m2\u001b[0m\u001b[0;34m,\u001b[0m\u001b[0msize\u001b[0m\u001b[0;34m=\u001b[0m\u001b[0;34m[\u001b[0m\u001b[0;36m1\u001b[0m\u001b[0;34m,\u001b[0m\u001b[0;36m2\u001b[0m\u001b[0;34m]\u001b[0m\u001b[0;34m)\u001b[0m\u001b[0;34m\u001b[0m\u001b[0m\n\u001b[0m\u001b[1;32m     11\u001b[0m         \u001b[0moutput\u001b[0m\u001b[0;34m=\u001b[0m\u001b[0moperator\u001b[0m\u001b[0;34m.\u001b[0m\u001b[0mxor\u001b[0m\u001b[0;34m(\u001b[0m\u001b[0minp\u001b[0m\u001b[0;34m[\u001b[0m\u001b[0;36m0\u001b[0m\u001b[0;34m,\u001b[0m\u001b[0;36m0\u001b[0m\u001b[0;34m]\u001b[0m\u001b[0;34m,\u001b[0m\u001b[0minp\u001b[0m\u001b[0;34m[\u001b[0m\u001b[0;36m0\u001b[0m\u001b[0;34m,\u001b[0m\u001b[0;36m1\u001b[0m\u001b[0;34m]\u001b[0m\u001b[0;34m)\u001b[0m\u001b[0;34m\u001b[0m\u001b[0m\n\u001b[1;32m     12\u001b[0m         \u001b[0mtrain_x\u001b[0m\u001b[0;34m[\u001b[0m\u001b[0mi\u001b[0m\u001b[0;34m,\u001b[0m\u001b[0;34m:\u001b[0m\u001b[0;34m]\u001b[0m\u001b[0;34m=\u001b[0m\u001b[0minp\u001b[0m\u001b[0;34m\u001b[0m\u001b[0m\n",
      "\u001b[0;31mKeyboardInterrupt\u001b[0m: "
     ]
    }
   ],
   "source": [
    "init = tf.global_variables_initializer()\n",
    "\n",
    "store_out=dict()\n",
    "\n",
    "eta_1=np.zeros(7)\n",
    "eta_1[1::]=np.logspace(-3,-6,6)\n",
    "\n",
    "eta_lmda=np.zeros(7)\n",
    "eta_lmda[1::]=np.logspace(-2,-6,6)\n",
    "\n",
    "combo=list(itertools.product(np.sort(eta_1[::-1]),np.sort(eta_lmda[::-1])))\n",
    "\n",
    "iteration=20000\n",
    "store_al=np.zeros([len(combo),iteration])\n",
    "store_df=np.zeros([len(combo),iteration])\n",
    "# store_err=[[] for i in range(len(combo))]\n",
    "store_err=np.zeros([len(combo),iteration])\n",
    "non_converge=[]\n",
    "accuracy=np.zeros([len(combo),iteration])\n",
    "x_in=[[0,0],[0,1],[1,0],[1,1]]\n",
    "with tf.Session() as sess:\n",
    "    for i in range(len(combo)):\n",
    "        store_out[combo[i]]=np.zeros((iteration,4))\n",
    "        sess.run(init)\n",
    "        print(\"Present combo:\",i+1)\n",
    "        print(\"Present learning rate:\",combo[i][0])\n",
    "        learning_rate1=[combo[i][0]]\n",
    "        lmda_learning_rate1=[combo[i][1]]\n",
    "        print(\"Present lmda learning rate:\",combo[i][1])  \n",
    "        flag=0\n",
    "        for idx in range(iteration):\n",
    "            (train_x, train_y) = traindata(batch_size)\n",
    "            train_x=np.float32(train_x)\n",
    "            train_y=(np.float32(train_y))\n",
    "            train_y=train_y.reshape((batch_size,1))#to make it [50,1] instead of [50,]\n",
    "            _,align,diff,err=sess.run([train_step,alignment,norm_diff,loss_0],feed_dict={x: train_x, y: train_y,\n",
    "                                                                                        learning_rate:learning_rate1,\n",
    "                                                                                   lmda_learning_rate:lmda_learning_rate1})\n",
    "            out=sess.run([y_p],feed_dict={x: x_in})\n",
    "            if flag==0:\n",
    "                if np.isnan(err)==True:\n",
    "                    print(\"\\n\\tModel does not converge!!!\\n\")\n",
    "                    non_converge.append(i)\n",
    "                    flag=1\n",
    "                    break\n",
    "#             err_per=np.sum(np.abs(train_y-np.round(abs(out))))/batch_size      \n",
    "#             accuracy[i,idx]=(err_per)\n",
    "            store_al[i,idx]=align\n",
    "            store_df[i,idx]=diff\n",
    "#             store_err[i].append(err)\n",
    "            store_out[combo[i]][idx,:]=out[0][:,0]\n",
    "            \n",
    "            store_err[i,idx]=err\n",
    "#             if (idx+1)%500==0:\n",
    "#                 print(\"Iteration count:\",idx+1)\n",
    "\n",
    "# for rem in non_converge:\n",
    "#     del store_err[rem]    "
   ]
  },
  {
   "cell_type": "code",
   "execution_count": null,
   "metadata": {
    "scrolled": false
   },
   "outputs": [],
   "source": [
    "combo_tmp=combo\n",
    "plt.figure(figsize=(30,30))\n",
    "for i in range(len(combo)):\n",
    "    subplot(eta_1.shape[0],eta_lmda.shape[0],i+1)\n",
    "    plt.plot(range(iteration), store_out[combo_tmp[i]])\n",
    "    plt.legend(['(0,0)','(0,1)','(1,0)','(1,1)'])\n",
    "    head=\"eta=%0.1e, lmda=%0.1e\"%(combo[i][0],combo_tmp[i][1])\n",
    "    plt.title(head)\n",
    "plt.show()\n",
    "\n",
    "\n",
    "\n"
   ]
  },
  {
   "cell_type": "code",
   "execution_count": null,
   "metadata": {
    "scrolled": true
   },
   "outputs": [],
   "source": [
    "store_err_s=[]\n",
    "store_al_s=[]\n",
    "store_df_s=[]\n",
    "print(\"Following indexes did not converge\",non_converge)\n",
    "for count in range(store_err.shape[0]):\n",
    "    if count in non_converge:\n",
    "        print(\"removing row:\",count)\n",
    "    else:\n",
    "        store_err_s.append(store_err[count,:]) \n",
    "#         store_al_s.append(store_al[count,:])\n",
    "\n",
    "\n",
    "store_err_s=np.array(store_err_s)\n",
    "\n",
    "for val in sorted(non_converge,reverse=True):\n",
    "    del combo[val]\n",
    "eta_1new=[]\n",
    "eta_lmdanew=[]\n",
    "for first,second in combo:\n",
    "    if first not in eta_1new:\n",
    "        eta_1new.append(first)\n",
    "    if second not in eta_lmdanew:\n",
    "        eta_lmdanew.append(second)\n",
    "eta_1new=np.array(eta_1new)\n",
    "eta_lmdanew=np.array(eta_lmdanew)\n"
   ]
  },
  {
   "cell_type": "code",
   "execution_count": null,
   "metadata": {},
   "outputs": [],
   "source": [
    "combo=list(itertools.product(np.sort(eta_1[::-1]),np.sort(eta_lmda[::-1])))\n",
    "temp=[i for i in range(16)]\n",
    "np.flipud(np.reshape(temp,[4,4]))"
   ]
  },
  {
   "cell_type": "code",
   "execution_count": null,
   "metadata": {
    "collapsed": true
   },
   "outputs": [],
   "source": [
    "#storing last values for error and reshaping into appropriate format\n",
    "last_val=np.zeros([eta_1new.shape[0]*eta_lmdanew.shape[0],1])\n",
    "for num in range(store_err_s.shape[0]):\n",
    "    last_val[num]=store_err_s[num][-1]\n",
    "reshape_err=np.flipud(np.reshape(last_val,[eta_1new.shape[0],eta_lmdanew.shape[0]]))\n",
    "#reshape_err = np.reshape(last_val, [eta_1new.shape[0], eta_lmdanew.shape[0]]).T\n",
    "\n"
   ]
  },
  {
   "cell_type": "code",
   "execution_count": null,
   "metadata": {
    "collapsed": true
   },
   "outputs": [],
   "source": [
    "lf_df=np.zeros([eta_1.shape[0]*eta_lmda.shape[0],10]) #stores last 10 norm_dfs\n",
    "mean_df=np.zeros([eta_1.shape[0]*eta_lmda.shape[0],1]) #stores mean of last 10 norm_dfs\n",
    "for num in range(store_df.shape[0]):\n",
    "    lf_df[num,:]=store_df[num,iteration-10:iteration]\n",
    "    mean_df[num]=np.mean(store_df[num,iteration-10:iteration])\n",
    "    \n",
    "reshape_df=np.flipud(np.reshape(mean_df,[eta_1.shape[0],eta_lmda.shape[0]]))"
   ]
  },
  {
   "cell_type": "code",
   "execution_count": null,
   "metadata": {
    "collapsed": true
   },
   "outputs": [],
   "source": [
    "last_al=np.zeros([eta_1.shape[0]*eta_lmda.shape[0],1])\n",
    "for num2 in range(store_al.shape[0]):\n",
    "    last_al[num2]=store_al[num2][-1]\n",
    "\n",
    "reshape_al=np.flipud(np.reshape(last_al,[eta_1.shape[0],eta_lmda.shape[0]]))"
   ]
  },
  {
   "cell_type": "code",
   "execution_count": 18,
   "metadata": {},
   "outputs": [
    {
     "data": {
      "text/plain": [
       "array([0.00000000e+00, 1.00000000e-06, 3.98107171e-06, 1.58489319e-05,\n",
       "       6.30957344e-05, 2.51188643e-04, 1.00000000e-03])"
      ]
     },
     "execution_count": 18,
     "metadata": {},
     "output_type": "execute_result"
    }
   ],
   "source": [
    "eta_1new"
   ]
  },
  {
   "cell_type": "code",
   "execution_count": 28,
   "metadata": {
    "collapsed": true
   },
   "outputs": [],
   "source": [
    "eta_xtick=np.sort(eta_1new)\n",
    "for x in range(len(eta_1new)):\n",
    "    eta_xtick[x]=\"%0.1e\" % eta_xtick[x]\n",
    "eta_ytick=np.sort(eta_lmdanew)\n",
    "for y in range(len(eta_lmdanew)):\n",
    "    eta_ytick[y]=\"%0.1e\" % eta_ytick[y]"
   ]
  },
  {
   "cell_type": "code",
   "execution_count": 55,
   "metadata": {},
   "outputs": [
    {
     "data": {
      "text/plain": [
       "['', 0.0, 1e-06, 6.3e-06, 4e-05, 0.00025, 0.0016, 0.01, '']"
      ]
     },
     "execution_count": 55,
     "metadata": {},
     "output_type": "execute_result"
    }
   ],
   "source": [
    "# a = np.array([[1,2], [3,4]])\n",
    "# plt.imshow(a)\n",
    "# plt.colorbar()\n",
    "# plt.show()\n",
    "ylabels"
   ]
  },
  {
   "cell_type": "code",
   "execution_count": 57,
   "metadata": {
    "scrolled": false
   },
   "outputs": [
    {
     "data": {
      "image/png": "[encoded data removed]",
      "text/plain": [
       "<matplotlib.figure.Figure at 0x7fcb6038cb38>"
      ]
     },
     "metadata": {},
     "output_type": "display_data"
    }
   ],
   "source": [
    "fig, ax = plt.subplots(1,1,figsize=(10,10))\n",
    "# plt.axes(xscale='log',yscale='log')\n",
    "# ax.locator_params(axis='y',nbins=len(eta_ytick))\n",
    "# ax.locator_params(axis='x',nbins=len(eta_xtick))\n",
    "h=ax.imshow(reshape_err, cmap='jet',interpolation='none')\n",
    "plt.colorbar(h,ax=ax)\n",
    "xlabels = [item.get_text() for item in ax.get_xticklabels()]\n",
    "xlabels[1:8]=eta_xtick\n",
    "ax.set_xticklabels(xlabels)\n",
    "# ax.set_xticklabels([str(eta) for eta in eta_xtick])\n",
    "\n",
    "\n",
    "ylabels = [item.get_text() for item in ax.get_yticklabels()]\n",
    "ylabels[1:8]=eta_ytick\n",
    "ax.set_yticklabels(ylabels[::-1])\n",
    "\n",
    "\n",
    "# ax.set_xticks(strings)\n",
    "# start, end = ax.get_xlim()\n",
    "# ax.xaxis.set_ticks(np.arange(start, end, 0.712123))\n",
    "# ax.xaxis.set_major_formatter(ticker.FormatStrFormatter('%0.01e'))\n",
    "\n",
    "ax.locator_params(axis='x',nbins=len(eta_xtick))\n",
    "ax.locator_params(axis='y',nbins=len(eta_ytick))\n",
    "\n",
    "\n",
    "# ax.set_ticks(eta_xtick)\n",
    "\n",
    "ax.set_xlabel(\"lmda_learning_rate \")\n",
    "ax.set_ylabel(\"learning_rate\")\n",
    "plt.title(\"Heatmap for loss at the end of all iterations\")\n",
    "plt.show()"
   ]
  },
  {
   "cell_type": "code",
   "execution_count": 59,
   "metadata": {},
   "outputs": [
    {
     "data": {
      "image/png": "[encoded data removed]",
      "text/plain": [
       "<matplotlib.figure.Figure at 0x7fcb601076d8>"
      ]
     },
     "metadata": {},
     "output_type": "display_data"
    }
   ],
   "source": [
    "eta_xtick1=np.sort(eta_1)\n",
    "for x in range(len(eta_1)):\n",
    "    eta_xtick1[x]=\"%0.1e\" % eta_xtick1[x]\n",
    "eta_ytick1=np.sort(eta_lmda)\n",
    "for y in range(len(eta_lmda)):\n",
    "    eta_ytick1[y]=\"%0.1e\" % eta_ytick1[y]\n",
    "    \n",
    "    \n",
    "fig,ax=plt.subplots(1,1,figsize=(10,10))\n",
    "\n",
    "h2=plt.imshow(reshape_al,cmap='jet')\n",
    "plt.colorbar(h2,ax=ax)\n",
    "ax.locator_params(axis='x',nbins=len(eta_xtick1))\n",
    "ax.locator_params(axis='y',nbins=len(eta_ytick1))\n",
    "\n",
    "xlabels = [item.get_text() for item in ax.get_xticklabels()]\n",
    "xlabels[1:8]=eta_xtick1\n",
    "ax.set_xticklabels(xlabels)\n",
    "\n",
    "ylabels = [item.get_text() for item in ax.get_yticklabels()]\n",
    "ylabels[1:8]=eta_ytick1\n",
    "ax.set_yticklabels(ylabels[::-1])\n",
    "\n",
    "\n",
    "plt.title(\"Heat map of alignaments for all learning rates\")\n",
    "ax.set_xlabel(\"lmda_learning_rate\")\n",
    "ax.set_ylabel(\"learning_rate\")\n",
    "plt.show()"
   ]
  },
  {
   "cell_type": "code",
   "execution_count": 60,
   "metadata": {
    "scrolled": false
   },
   "outputs": [
    {
     "data": {
      "image/png": "[encoded data removed]",
      "text/plain": [
       "<matplotlib.figure.Figure at 0x7fcbbaa01128>"
      ]
     },
     "metadata": {},
     "output_type": "display_data"
    }
   ],
   "source": [
    "fig,ax=plt.subplots(1,1,figsize=(10,10))\n",
    "h3=plt.imshow(reshape_df,cmap='jet')\n",
    "plt.colorbar(h3,ax=ax)\n",
    "\n",
    "\n",
    "ax.set_xticklabels(xlabels)\n",
    "ax.set_yticklabels(ylabels[::-1])\n",
    "ax.locator_params(axis='x',nbins=len(eta_xtick1))\n",
    "ax.locator_params(axis='y',nbins=len(eta_ytick1))\n",
    "\n",
    "plt.title(\"Heatmap of mean of the the last 10 norms differences\")\n",
    "plt.xlabel(\"lmda_learning_rate\")\n",
    "plt.ylabel(\"learning_rate\")\n",
    "plt.show()\n",
    "\n",
    "# for iter in range(lf_df.shape[0]):\n",
    "#     leg='Combination '+str(iter+1)\n",
    "#     plt.plot(lf_df[iter,:],label=leg)\n",
    "# plt.title(\"Last 10 norm fifferences for every combination of learnig rates\")\n",
    "# plt.legend()\n",
    "# plt.show()           \n",
    "    \n",
    "# # fig, ax1 = plt.subplots(1,1)\n",
    "# # data = np.random.randint(0, 100, size=(10, 10))\n",
    "# # ax1.imshow(data, cmap='jet', interpolation='nearest')\n",
    "# # ax1.set_xticklabels(['', 0,10,20,30,40])\n",
    "# # plt.show()"
   ]
  },
  {
   "cell_type": "code",
   "execution_count": 23,
   "metadata": {
    "collapsed": true
   },
   "outputs": [],
   "source": [
    "# eta_xtick1=eta_1[::-1]\n",
    "# for x in range(len(eta_1)):\n",
    "#     eta_xtick1[x]=\"%0.1e\" % eta_xtick[x]\n",
    "# eta_ytick1=eta_lmda[::-1]\n",
    "# for y in range(len(eta_lmda)):\n",
    "#     eta_ytick1[y]=\"%0.1e\" % eta_ytick[y]\n",
    "\n",
    "    \n",
    "# fig,ax=plt.subplots(1,1,figsize=(10,10))\n",
    "\n",
    "# h2=plt.imshow(reshape_acc,cmap='jet',origin='lower')\n",
    "# plt.colorbar(h2,ax=ax)\n",
    "# ax.locator_params(axis='x',nbins=len(eta_xtick1))\n",
    "# ax.locator_params(axis='y',nbins=len(eta_ytick1))\n",
    "# ax.set_xticklabels([str(eta) for eta in eta_xtick1])\n",
    "# ax.set_yticklabels([str(eta) for eta in eta_ytick1])\n",
    "\n",
    "\n",
    "# plt.title(\"Heat map of errors for all learning rates\")\n",
    "# ax.set_xlabel(\"learning_rate\")\n",
    "# ax.set_ylabel(\"lmda_learning_rate\")\n",
    "# plt.show()"
   ]
  },
  {
   "cell_type": "code",
   "execution_count": 24,
   "metadata": {
    "collapsed": true
   },
   "outputs": [],
   "source": [
    "# # x=[i for i in range(iteration)]\n",
    "# for i in range((accuracy.shape[0])):\n",
    "#     leg='Combination '+str(i+1)\n",
    "#     plt.plot(accuracy[i,:],label=leg)\n",
    "# plt.legend()\n",
    "# plt.show()"
   ]
  },
  {
   "cell_type": "code",
   "execution_count": null,
   "metadata": {
    "collapsed": true
   },
   "outputs": [],
   "source": []
  },
  {
   "cell_type": "code",
   "execution_count": null,
   "metadata": {
    "collapsed": true
   },
   "outputs": [],
   "source": []
  }
 ],
 "metadata": {
  "kernelspec": {
   "display_name": "Python [conda env:py34]",
   "language": "python",
   "name": "conda-env-py34-py"
  },
  "language_info": {
   "codemirror_mode": {
    "name": "ipython",
    "version": 3
   },
   "file_extension": ".py",
   "mimetype": "text/x-python",
   "name": "python",
   "nbconvert_exporter": "python",
   "pygments_lexer": "ipython3",
   "version": "3.6.6"
  }
 },
 "nbformat": 4,
 "nbformat_minor": 2
}
