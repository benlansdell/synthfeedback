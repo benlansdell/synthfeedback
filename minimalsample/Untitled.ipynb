{
 "cells": [
  {
   "cell_type": "code",
   "execution_count": 1,
   "metadata": {},
   "outputs": [
    {
     "name": "stderr",
     "output_type": "stream",
     "text": [
      "/opt/anaconda/miniconda2/envs/py34/lib/python3.6/site-packages/h5py/__init__.py:34: FutureWarning: Conversion of the second argument of issubdtype from `float` to `np.floating` is deprecated. In future, it will be treated as `np.float64 == np.dtype(float).type`.\n",
      "  from ._conv import register_converters as _register_converters\n"
     ]
    },
    {
     "ename": "ModuleNotFoundError",
     "evalue": "No module named 'data_loader'",
     "output_type": "error",
     "traceback": [
      "\u001b[0;31m---------------------------------------------------------------------------\u001b[0m",
      "\u001b[0;31mModuleNotFoundError\u001b[0m                       Traceback (most recent call last)",
      "\u001b[0;32m<ipython-input-1-02414d8490cd>\u001b[0m in \u001b[0;36m<module>\u001b[0;34m()\u001b[0m\n\u001b[1;32m      5\u001b[0m \u001b[0;32mimport\u001b[0m \u001b[0mtensorflow\u001b[0m \u001b[0;32mas\u001b[0m \u001b[0mtf\u001b[0m\u001b[0;34m\u001b[0m\u001b[0m\n\u001b[1;32m      6\u001b[0m \u001b[0;34m\u001b[0m\u001b[0m\n\u001b[0;32m----> 7\u001b[0;31m \u001b[0;32mfrom\u001b[0m \u001b[0mdata_loader\u001b[0m\u001b[0;34m.\u001b[0m\u001b[0mdata_generator\u001b[0m \u001b[0;32mimport\u001b[0m \u001b[0mMNISTDataGenerator\u001b[0m\u001b[0;34m,\u001b[0m \u001b[0mLinearDataGenerator\u001b[0m\u001b[0;34m\u001b[0m\u001b[0m\n\u001b[0m\u001b[1;32m      8\u001b[0m \u001b[0;32mfrom\u001b[0m \u001b[0mmodels\u001b[0m\u001b[0;34m.\u001b[0m\u001b[0msfmodels\u001b[0m \u001b[0;32mimport\u001b[0m \u001b[0mBPModel\u001b[0m\u001b[0;34m,\u001b[0m \u001b[0mFAModel\u001b[0m\u001b[0;34m,\u001b[0m \u001b[0mFAModelLinear\u001b[0m\u001b[0;34m,\u001b[0m \u001b[0mDirectFAModel4\u001b[0m\u001b[0;34m,\u001b[0m \u001b[0mBPModel4\u001b[0m\u001b[0;34m,\u001b[0m \u001b[0mFAModel4\u001b[0m\u001b[0;34m,\u001b[0m \u001b[0mAEFAModel\u001b[0m\u001b[0;34m,\u001b[0m \u001b[0mAEBPModel\u001b[0m\u001b[0;34m,\u001b[0m                                                                                                          \u001b[0mAEDFAModel\u001b[0m\u001b[0;34m,\u001b[0m \u001b[0mBPModel10\u001b[0m\u001b[0;34m,\u001b[0m \u001b[0mFAModel10\u001b[0m\u001b[0;34m,\u001b[0m                                                                                                               \u001b[0mFAModel4Linear\u001b[0m\u001b[0;34m\u001b[0m\u001b[0m\n\u001b[1;32m      9\u001b[0m \u001b[0;32mfrom\u001b[0m \u001b[0mtrainers\u001b[0m\u001b[0;34m.\u001b[0m\u001b[0msf_trainer\u001b[0m \u001b[0;32mimport\u001b[0m \u001b[0mSFTrainer\u001b[0m\u001b[0;34m,\u001b[0m \u001b[0mAESFTrainer\u001b[0m\u001b[0;34m\u001b[0m\u001b[0m\n",
      "\u001b[0;31mModuleNotFoundError\u001b[0m: No module named 'data_loader'"
     ]
    }
   ],
   "source": [
    "#!/usr/bin/env python\n",
    "import os\n",
    "os.environ[\"CUDA_VISIBLE_DEVICES\"]=\"1\"\n",
    "\n",
    "import tensorflow as tf\n",
    "\n",
    "from data_loader.data_generator import MNISTDataGenerator, LinearDataGenerator\n",
    "from models.sfmodels import BPModel, FAModel, FAModelLinear, DirectFAModel4, BPModel4, FAModel4, AEFAModel, AEBPModel,\\\n",
    "\t\t\t\t\t\t\t\t\t\t\t\t\t\tAEDFAModel, BPModel10, FAModel10,\\\n",
    "\t\t\t\t\t\t\t\t\t\t\t\t\t\tFAModel4Linear\n",
    "from trainers.sf_trainer import SFTrainer, AESFTrainer\n",
    "from utils.config import process_config\n",
    "from utils.dirs import create_dirs\n",
    "from utils.utils import get_args\n",
    "from utils.logger import LoggerNumpy, Logger\n",
    "\n",
    "import shutil\n",
    "import numpy.random as rng\n",
    "import numpy as np"
   ]
  },
  {
   "cell_type": "code",
   "execution_count": null,
   "metadata": {
    "collapsed": true
   },
   "outputs": [],
   "source": []
  }
 ],
 "metadata": {
  "kernelspec": {
   "display_name": "Python [conda env:py34]",
   "language": "python",
   "name": "conda-env-py34-py"
  },
  "language_info": {
   "codemirror_mode": {
    "name": "ipython",
    "version": 3
   },
   "file_extension": ".py",
   "mimetype": "text/x-python",
   "name": "python",
   "nbconvert_exporter": "python",
   "pygments_lexer": "ipython3",
   "version": "3.6.1"
  }
 },
 "nbformat": 4,
 "nbformat_minor": 2
}
