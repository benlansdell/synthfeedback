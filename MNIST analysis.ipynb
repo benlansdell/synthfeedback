{
 "cells": [
  {
   "cell_type": "code",
   "execution_count": 1,
   "metadata": {
    "collapsed": true
   },
   "outputs": [],
   "source": [
    "import os\n",
    "os.environ[\"CUDA_VISIBLE_DEVICES\"]=''\n",
    "import matplotlib.pyplot as plt \n",
    "import numpy as np\n",
    "import seaborn as sns\n",
    "import pickle\n",
    "import math\n",
    "import pandas as pd\n",
    "from scipy.signal import medfilt"
   ]
  },
  {
   "cell_type": "code",
   "execution_count": 2,
   "metadata": {
    "collapsed": true
   },
   "outputs": [],
   "source": [
    "with open('/home/prashanth/synthfeedback/Pickles/MNIST_NP.pkl','rb') as f:\n",
    "    [np_err,np_al,np_acc,np_iteration,np_epoch]=pickle.load(f,encoding='latin1')"
   ]
  },
  {
   "cell_type": "code",
   "execution_count": 3,
   "metadata": {},
   "outputs": [],
   "source": [
    "with open('/home/prashanth/synthfeedback/Pickles/MNIST-FA.pkl','rb') as f:\n",
    "    store_err,store_al,store_acc,iteration=pickle.load(f,encoding='latin1')"
   ]
  },
  {
   "cell_type": "code",
   "execution_count": 4,
   "metadata": {
    "collapsed": true
   },
   "outputs": [],
   "source": [
    "with open('/home/prashanth/synthfeedback/Pickles/MNIST-BP.pkl','rb') as f:\n",
    "    [bp_err,bp_acc,bp_iteration,bp_epoch]=pickle.load(f,encoding='latin1')"
   ]
  },
  {
   "cell_type": "code",
   "execution_count": 5,
   "metadata": {},
   "outputs": [
    {
     "ename": "NameError",
     "evalue": "name 'fa_err' is not defined",
     "output_type": "error",
     "traceback": [
      "\u001b[0;31m---------------------------------------------------------------------------\u001b[0m",
      "\u001b[0;31mNameError\u001b[0m                                 Traceback (most recent call last)",
      "\u001b[0;32m<ipython-input-5-4302768c72a1>\u001b[0m in \u001b[0;36m<module>\u001b[0;34m()\u001b[0m\n\u001b[1;32m      1\u001b[0m \u001b[0;31m# import pandas as pd\u001b[0m\u001b[0;34m\u001b[0m\u001b[0;34m\u001b[0m\u001b[0m\n\u001b[1;32m      2\u001b[0m \u001b[0mmean_bp\u001b[0m\u001b[0;34m=\u001b[0m\u001b[0mnp\u001b[0m\u001b[0;34m.\u001b[0m\u001b[0mmean\u001b[0m\u001b[0;34m(\u001b[0m\u001b[0mbp_err\u001b[0m\u001b[0;34m,\u001b[0m\u001b[0maxis\u001b[0m\u001b[0;34m=\u001b[0m\u001b[0;36m0\u001b[0m\u001b[0;34m)\u001b[0m\u001b[0;34m\u001b[0m\u001b[0m\n\u001b[0;32m----> 3\u001b[0;31m \u001b[0mmean_fa\u001b[0m\u001b[0;34m=\u001b[0m\u001b[0mnp\u001b[0m\u001b[0;34m.\u001b[0m\u001b[0mmean\u001b[0m\u001b[0;34m(\u001b[0m\u001b[0mfa_err\u001b[0m\u001b[0;34m,\u001b[0m\u001b[0maxis\u001b[0m\u001b[0;34m=\u001b[0m\u001b[0;36m0\u001b[0m\u001b[0;34m)\u001b[0m\u001b[0;34m\u001b[0m\u001b[0m\n\u001b[0m\u001b[1;32m      4\u001b[0m \u001b[0;34m\u001b[0m\u001b[0m\n\u001b[1;32m      5\u001b[0m \u001b[0mmean_np\u001b[0m\u001b[0;34m=\u001b[0m\u001b[0mnp\u001b[0m\u001b[0;34m.\u001b[0m\u001b[0mmean\u001b[0m\u001b[0;34m(\u001b[0m\u001b[0mnp_err\u001b[0m\u001b[0;34m,\u001b[0m\u001b[0maxis\u001b[0m\u001b[0;34m=\u001b[0m\u001b[0;36m0\u001b[0m\u001b[0;34m)\u001b[0m\u001b[0;34m\u001b[0m\u001b[0m\n",
      "\u001b[0;31mNameError\u001b[0m: name 'fa_err' is not defined"
     ]
    }
   ],
   "source": [
    "# import pandas as pd\n",
    "mean_bp=np.mean(bp_err,axis=0)\n",
    "mean_fa=np.mean(fa_err,axis=0)\n",
    "\n",
    "mean_np=np.mean(np_err,axis=0)\n",
    "\n",
    "mean_accbp=np.mean(bp_acc,axis=0)\n",
    "mean_accfa=np.mean(fa_acc,axis=0)\n",
    "mean_accnp=np.mean(np_acc,axis=0)\n",
    "\n",
    "std_accbp=np.std(bp_acc,axis=0)\n",
    "std_accfa=np.std(fa_acc,axis=0)\n",
    "std_accnp=np.std(np_acc,axis=0)\n",
    "\n",
    "\n",
    "std_bp=np.std(bp_err,axis=0)\n",
    "std_fa=np.mean(fa_err,axis=0)\n",
    "std_np=np.mean(np_err,axis=0)\n",
    "\n"
   ]
  },
  {
   "cell_type": "code",
   "execution_count": null,
   "metadata": {},
   "outputs": [],
   "source": [
    "N=107\n",
    "med_mean_accbp=medfilt(mean_accbp,N)\n",
    "med_std_accbp=np.std(med_mean_accbp)\n",
    "plt.plot(med_mean_accbp,label='Back Propagation',color=\"blue\")\n",
    "plt.fill_between(range(med_mean_accbp.shape[0]),med_mean_accbp-med_std_accbp,med_mean_accbp+med_std_accbp,color=\"#95E1F0\")\n",
    "\n",
    "med_mean_accfa=medfilt(mean_accfa,N)\n",
    "med_std_accfa=np.std(med_mean_accfa)\n",
    "plt.plot(med_mean_accfa,label='Feedback alignment',color=\"green\")\n",
    "plt.fill_between(range(med_mean_accfa.shape[0]),med_mean_accfa-med_std_accfa,med_mean_accfa+med_std_accfa,color=\"#95F09A\")\n",
    "\n",
    "med_mean_accnp=medfilt(mean_accnp,N)\n",
    "med_std_accnp=np.std(med_mean_accnp)\n",
    "plt.plot(med_mean_accnp,label='Node perturbation',color=\"red\")\n",
    "plt.fill_between(range(med_mean_accnp.shape[0]),med_mean_accnp-med_std_accnp,med_mean_accnp+med_std_accnp,color=\"#F09595\" )\n",
    "plt.title(\"Mean of Accuracy\")\n",
    "plt.xlabel(\"Iteration\")\n",
    "plt.ylabel(\"Accuracy\")\n",
    "plt.legend()\n",
    "plt.savefig(\"Accuracy_Median_filter.pdf\")\n",
    "plt.show()"
   ]
  },
  {
   "cell_type": "code",
   "execution_count": null,
   "metadata": {},
   "outputs": [],
   "source": [
    "mean_fa_al=np.mean(np.degrees(np.arccos(fa_al)),axis=0)\n",
    "# std_fa_al=np.std(np.degrees(np.arccos(fa_al)),axis=0)\n",
    "\n",
    "med_mean_fa_al=medfilt(mean_fa_al,N)\n",
    "med_std_fa_al=np.std(med_mean_fa_al)\n",
    "\n",
    "mean_np_al=np.mean(np.degrees(np.arccos(np_al)),axis=0)\n",
    "# std_np_al=np.std(np.degrees(np.arccos(np_al)),axis=0)\n",
    "\n",
    "med_mean_np_al=medfilt(mean_np_al,N)\n",
    "med_std_np_al=np.std(med_mean_np_al)\n",
    "plt.plot(med_mean_np_al,label='Node Perturbation',color=\"red\")\n",
    "plt.fill_between(range(med_mean_np_al.shape[0]),med_mean_np_al-med_std_np_al,med_mean_np_al+med_std_np_al,color=\"#F09595\")\n",
    "plt.plot(med_mean_fa_al,label='Feedback Alignment',color=\"green\")\n",
    "plt.fill_between(range(med_mean_fa_al.shape[0]),med_mean_fa_al-med_std_fa_al,med_mean_fa_al+med_std_fa_al,color=\"#95F09A\")\n",
    "plt.title(\"Mean of Alignment\")\n",
    "plt.xlabel(\"Iteration\")\n",
    "plt.ylabel(\"Angle of Alignment\")\n",
    "plt.legend()\n",
    "plt.savefig(\"Alignment(with median filter).pdf\")\n",
    "plt.show()"
   ]
  },
  {
   "cell_type": "code",
   "execution_count": null,
   "metadata": {
    "collapsed": true
   },
   "outputs": [],
   "source": [
    "# N=5\n",
    "# ma_mean_accbp=np.convolve(mean_accbp, np.ones((N,))/N, mode='valid')\n",
    "# ma_std_accbp=np.convolve(std_accbp,np.ones(N,)/N,mode='valid')\n",
    "# plt.plot(ma_mean_accbp,label='Back Propagation')\n",
    "# plt.fill_between(range(ma_mean_accbp.shape[0]),ma_mean_accbp-ma_std_accbp,ma_mean_accbp+ma_std_accbp,color=\"gray\")\n",
    "\n",
    "# ma_mean_accfa=np.convolve(mean_accfa, np.ones((N,))/N, mode='valid')\n",
    "# ma_std_accfa=np.convolve(std_accfa,np.ones(N,)/N,mode='valid')\n",
    "# plt.plot(ma_mean_accfa,label='Feedback alignment')\n",
    "# plt.fill_between(range(ma_mean_accfa.shape[0]),ma_mean_accfa-ma_std_accfa,ma_mean_accfa+ma_std_accfa)\n",
    "\n",
    "# ma_mean_accnp=np.convolve(mean_accnp, np.ones((N,))/N, mode='valid')\n",
    "# ma_std_accnp=np.convolve(std_accnp,np.ones(N,)/N,mode='valid')\n",
    "# plt.plot(ma_mean_accnp,label='Node perturbation')\n",
    "# plt.fill_between(range(ma_mean_accnp.shape[0]),ma_mean_accnp-ma_std_accnp,ma_mean_accnp+ma_std_accnp)\n",
    "\n",
    "# plt.title(\"Mean of Accuracy(with moving average filter)\")\n",
    "# plt.xlabel(\"Iteration\")\n",
    "# plt.ylabel(\"Accuracy\")\n",
    "# plt.legend()\n",
    "\n",
    "# plt.show()"
   ]
  },
  {
   "cell_type": "code",
   "execution_count": null,
   "metadata": {
    "collapsed": true
   },
   "outputs": [],
   "source": [
    "# plt.plot(mean_accbp,label='Back Propagation',color='blue')\n",
    "# plt.fill_between(range(bp_iteration),mean_bp-std_bp,mean_bp+std_bp,color=\"#95E1F0\")\n",
    "# plt.plot(mean_accfa,label='Feedback alignment',color=\"green\")\n",
    "\n",
    "# plt.fill_between(range(bp_iteration),mean_fa-std_fa,mean_fa+std_fa,color=\"#95F09A\")\n",
    "# # plt.plot(np.mean(np_acc,axis=0),label='Node Perturbation',color=\"red\")\n",
    "# plt.plot(mean_accnp,label='Node Perturbation',color=\"red\")\n",
    "# plt.fill_between(range(bp_iteration),mean_np-std_np,mean_np+std_np,color=\"#F09595\")\n",
    "# plt.xlabel(\"Iteration\")\n",
    "# plt.ylabel(\"Accuracy\")\n",
    "# plt.legend()\n",
    "# plt.title(\"Mean of Accuracy(without moving average filter)\")\n",
    "# plt.show()"
   ]
  },
  {
   "cell_type": "code",
   "execution_count": null,
   "metadata": {},
   "outputs": [],
   "source": [
    "\n",
    "plt.plot(mean_fa_al,label='Feedback alignment')\n",
    "plt.plot(mean_np_al,label='Node Perturbation')\n",
    "# plt.fill_between(range(bp_iteration),mean_fa-std_fa,mean_fa+std_fa)\n",
    "# plt.plot(np.mean(np_acc,axis=0),label='Node Perturbation')\n",
    "# plt.fill_between(range(bp_iteration),mean_np-std_np,mean_np+std_np)\n",
    "plt.xlabel(\"Iteration\")\n",
    "plt.ylabel(\"Accuracy\")\n",
    "plt.legend()\n",
    "plt.title(\"Mean of Alignment(without moving average filter)\")\n",
    "plt.show()"
   ]
  },
  {
   "cell_type": "code",
   "execution_count": null,
   "metadata": {
    "collapsed": true
   },
   "outputs": [],
   "source": [
    "# plt.plot(np.std(np_acc,axis=0),label='Node Perturbation')\n",
    "# plt.plot(np.std(fa_acc,axis=0),label='Feedback alignment')\n",
    "# plt.plot(np.std(bp_acc,axis=0),label='Back Propagation')\n",
    "# plt.title(\"Standard deviation of Accuracy\")\n",
    "# plt.xlabel(\"Iteration\")\n",
    "# plt.ylabel(\"loss\")\n",
    "# plt.legend()\n",
    "# plt.show()"
   ]
  },
  {
   "cell_type": "code",
   "execution_count": null,
   "metadata": {
    "collapsed": true
   },
   "outputs": [],
   "source": [
    "# plt.plot(np.mean(np_err,axis=0),label='Node Perturbation')\n",
    "# plt.plot(np.mean(fa_err,axis=0),label='Feedback alignment')\n",
    "# plt.plot(np.mean(bp_err,axis=0),label='Back Propagation')\n",
    "# plt.title(\"Mean of loss\")\n",
    "# plt.xlabel(\"Iteration\")\n",
    "# plt.ylabel(\"loss\")\n",
    "# plt.legend()\n",
    "# plt.show()"
   ]
  },
  {
   "cell_type": "code",
   "execution_count": null,
   "metadata": {
    "collapsed": true,
    "scrolled": false
   },
   "outputs": [],
   "source": [
    "# plt.plot(np.std(np_err,axis=0),label='Node Perturbation')\n",
    "# plt.plot(np.std(fa_err,axis=0),label='Feedback alignment')\n",
    "# plt.plot(np.std(bp_err,axis=0),label='Back Propagation')\n",
    "# plt.title(\"Standard deviation of loss\")\n",
    "# plt.xlabel(\"Iteration\")\n",
    "# plt.ylabel(\"loss\")\n",
    "# plt.legend()\n",
    "# plt.show()"
   ]
  },
  {
   "cell_type": "code",
   "execution_count": null,
   "metadata": {
    "collapsed": true
   },
   "outputs": [],
   "source": [
    "# # plt.plot(np.std(np.degrees(np.arccos(np_al)),axis=0),label='Node Perturbation')\n",
    "# plt.plot(np.std(np.degrees(np.arccos(fa_al)),axis=0),label='Feedback Alignment')\n",
    "# plt.title(\"Standard Deviation of Alignment\")\n",
    "# plt.xlabel(\"Iteration\")\n",
    "# plt.ylabel(\"Angle Alignment\")\n",
    "# plt.legend()\n",
    "# plt.show()"
   ]
  },
  {
   "cell_type": "code",
   "execution_count": null,
   "metadata": {
    "collapsed": true
   },
   "outputs": [],
   "source": [
    "# acc=np.zeros((bp_iteration*3))\n",
    "# acc[0:bp_iteration]=mean_accbp\n",
    "# acc[bp_iteration:bp_iteration*2]=mean_accfa\n",
    "# acc[bp_iteration*2:bp_iteration*3]=mean_accnp\n",
    "\n",
    "# std_acc=np.zeros((bp_iteration*3))\n",
    "# std_acc[0:bp_iteration]=std_accbp\n",
    "# std_acc[bp_iteration:bp_iteration*2]=std_accfa\n",
    "# std_acc[bp_iteration*2:bp_iteration*3]=std_accnp\n",
    "\n",
    "# std=np.zeros((bp_iteration*3))\n",
    "# std[0:bp_iteration]=std_bp\n",
    "# std[bp_iteration:bp_iteration*2]=std_fa\n",
    "# std[bp_iteration*2:bp_iteration*3]=std_np\n",
    "\n",
    "\n",
    "# '''id=0 BP\n",
    "#    id=1 FA\n",
    "#    id=2 NP'''\n",
    "# error=np.zeros((bp_iteration*3))\n",
    "# error[0:bp_iteration]=mean_bp\n",
    "# error[bp_iteration:bp_iteration*2]=mean_fa\n",
    "# error[bp_iteration*2:bp_iteration*3]=mean_np\n",
    "\n",
    "# rando=[i for i in range(bp_iteration)]\n",
    "# Iter=np.zeros((bp_iteration*3))\n",
    "# Iter[0:bp_iteration]=rando\n",
    "# Iter[bp_iteration:bp_iteration*2]=rando\n",
    "# Iter[bp_iteration*2:bp_iteration*3]=rando\n",
    "\n",
    "# id=np.zeros((bp_iteration*3))\n",
    "# id[0:bp_iteration]=0\n",
    "# id[bp_iteration:bp_iteration*2]=1\n",
    "# id[bp_iteration*2:bp_iteration*3]=2\n",
    "# data={'Iteration':Iter,\n",
    "#     'MeanError':error, \n",
    "#      'id':id,\n",
    "#      'StdError':std,\n",
    "#       'MeanAcc':acc,\n",
    "#       'StdAcc':std_acc\n",
    "#      }\n",
    "\n",
    "\n",
    "#     ax14 = sns.tsplot(data = long_total_cluster_capacity_overload_df, value = \"Overload\", time = \"Week\", condition = \"Cluster\")\n"
   ]
  },
  {
   "cell_type": "code",
   "execution_count": null,
   "metadata": {
    "collapsed": true
   },
   "outputs": [],
   "source": [
    "# df=pd.DataFrame(data,columns=['Iteration','MeanError','id','StdError','MeanAcc','StdAcc'])\n",
    "# df['Unit'] = df.groupby(['id','Iteration']).cumcount()\n",
    "# ax=sns.tsplot(data=df,time=\"Iteration\",value=\"MeanError\",condition=\"id\",unit=\"Unit\",err_style=\"range_band\")\n",
    "# plt.title(\"Mean of loss\")\n",
    "# plt.show()"
   ]
  },
  {
   "cell_type": "code",
   "execution_count": null,
   "metadata": {
    "collapsed": true
   },
   "outputs": [],
   "source": [
    "# ax=sns.tsplot(data=df,time=\"Iteration\",value=\"StdError\",condition=\"id\",unit=\"Unit\",err_style=\"range_band\")\n",
    "# plt.title(\"Standard Deviation of loss\")\n",
    "# plt.show()"
   ]
  },
  {
   "cell_type": "code",
   "execution_count": null,
   "metadata": {
    "collapsed": true
   },
   "outputs": [],
   "source": [
    "# ax=sns.tsplot(data=df,time=\"Iteration\",value=\"MeanAcc\",condition=\"id\",unit=\"Unit\",err_style=\"range_band\")\n",
    "# plt.title(\"Mean Accuracies\")\n",
    "# plt.show()"
   ]
  },
  {
   "cell_type": "code",
   "execution_count": null,
   "metadata": {
    "collapsed": true
   },
   "outputs": [],
   "source": [
    "# ax=sns.tsplot(data=df,time=\"Iteration\",value=\"StdAcc\",condition=\"id\",unit=\"Unit\",err_style=\"range_band\")\n",
    "# plt.title(\"Standard Deviation of Accuracies\")\n",
    "# plt.show()"
   ]
  },
  {
   "cell_type": "code",
   "execution_count": null,
   "metadata": {
    "collapsed": true
   },
   "outputs": [],
   "source": []
  },
  {
   "cell_type": "code",
   "execution_count": null,
   "metadata": {
    "collapsed": true
   },
   "outputs": [],
   "source": [
    "# n = 100 # the larger n is, the smoother curve will be\n",
    "# b = [1.0 / n] * n\n",
    "# a = 1\n",
    "# yy_bp = lfilter(b,a,bp_acc)\n",
    "# yy_fa = lfilter(b,a,fa_acc)\n",
    "# yy_np= lfilter(b,a,np_acc)\n",
    "# plt.plot( yy_bp, linewidth=2, linestyle=\"-\",label='Back Propagation')\n",
    "# plt.plot(yy_np,linewidth=2, linestyle=\"-\",label='Node Perturbation')\n",
    "# plt.plot( yy_fa, linewidth=2, linestyle=\"-\",label='Random Feedback')\n",
    "# plt.suptitle('After filtering the accuracies')\n",
    "# plt.legend()\n",
    "# plt.ylabel('Accuracy')\n",
    "# plt.show()"
   ]
  },
  {
   "cell_type": "code",
   "execution_count": null,
   "metadata": {
    "collapsed": true
   },
   "outputs": [],
   "source": []
  },
  {
   "cell_type": "code",
   "execution_count": null,
   "metadata": {
    "collapsed": true
   },
   "outputs": [],
   "source": []
  }
 ],
 "metadata": {
  "kernelspec": {
   "display_name": "Python [conda env:py34]",
   "language": "python",
   "name": "conda-env-py34-py"
  },
  "language_info": {
   "codemirror_mode": {
    "name": "ipython",
    "version": 3
   },
   "file_extension": ".py",
   "mimetype": "text/x-python",
   "name": "python",
   "nbconvert_exporter": "python",
   "pygments_lexer": "ipython3",
   "version": "3.6.6"
  }
 },
 "nbformat": 4,
 "nbformat_minor": 2
}
